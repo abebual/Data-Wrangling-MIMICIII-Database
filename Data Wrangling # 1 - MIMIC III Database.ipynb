{
 "cells": [
  {
   "cell_type": "markdown",
   "metadata": {},
   "source": [
    "# Data Wrangling # 1:  MIMIC III Database\n",
    "\n",
    "\n",
    "## Extract data from MIMIC III Datasets and Organize by Patient. \n",
    "\n",
    "## Data Source \n",
    "\n",
    "For this project, I used publicly available Electronic Health Records (EHRs) datasets. The MIT Media Lab for Computational Physiology has developed MIMIC-IIIv1.4 dataset based on 46,520 patients who stayed in critical care units of the Beth Israel Deaconess Medical Center of Boston between 2001 and 2012. MIMIC-IIIv1.4 dataset is freely available to researchers across the world. A formal request should be made directly to www.mimic.physionet.org, to gain acess to the data. There is a required course on human research ‘Data or Specimens Only Research’ prior to data acess request. I have secured one here -www.citiprogram.org/verify/?kb6607b78-5821-4de5-8cad-daf929f7fbbf-33486907\n",
    "\n",
    "The dataset has 26 relational tables including patient’s hospital admission, callout information when patient was ready for discharge, caregiver information, electronic charted events including vital signs and any additional information relevant to patient care, patient demographic data, list of services the patient was admitted or transferred under,  ICU stay types, diagnoses types, laboratory measurments, microbiology tests and sensitivity, prescription data and billing information. \n",
    "\n",
    "Although I have full access to the MIMIC-IIIv1.4 datasets, I can not share any part of the data publicly. If you are interested to learn more about the data, there is a MIMIC III Demo dataset based on 100 patients https://mimic.physionet.org/gettingstarted/demo/. If you are interested to requesting access to the data - https://mimic.physionet.org/gettingstarted/access/. \n",
    "\n"
   ]
  },
  {
   "cell_type": "code",
   "execution_count": 2,
   "metadata": {},
   "outputs": [],
   "source": [
    "import os\n",
    "import pandas as pd\n",
    "import numpy as np\n",
    "import random\n",
    "import sys\n",
    "import csv"
   ]
  },
  {
   "cell_type": "code",
   "execution_count": 3,
   "metadata": {},
   "outputs": [
    {
     "data": {
      "text/plain": [
       "'C:\\\\Users\\\\abebu\\\\Google Drive\\\\Abebual\\\\Capstone Project 1\\\\9. MIMIC III\\\\data_wrangling'"
      ]
     },
     "execution_count": 3,
     "metadata": {},
     "output_type": "execute_result"
    }
   ],
   "source": [
    "os.getcwd()"
   ]
  },
  {
   "cell_type": "code",
   "execution_count": 3,
   "metadata": {},
   "outputs": [],
   "source": [
    "os.chdir(\"C://Users/abebu/Google Drive/mimic-iii-clinical-database-1.4/Charts\")"
   ]
  },
  {
   "cell_type": "code",
   "execution_count": 4,
   "metadata": {},
   "outputs": [
    {
     "name": "stdout",
     "output_type": "stream",
     "text": [
      "<class 'pandas.core.frame.DataFrame'>\n",
      "Int64Index: 46520 entries, 234 to 31844\n",
      "Data columns (total 7 columns):\n",
      "SUBJECT_ID     46520 non-null int64\n",
      "GENDER         46520 non-null object\n",
      "DOB            46520 non-null object\n",
      "DOD            15759 non-null object\n",
      "DOD_HOSP       9974 non-null object\n",
      "DOD_SSN        13378 non-null object\n",
      "EXPIRE_FLAG    46520 non-null int64\n",
      "dtypes: int64(2), object(5)\n",
      "memory usage: 2.8+ MB\n"
     ]
    }
   ],
   "source": [
    "pt=pd.read_csv('PATIENTS.csv', header=0, index_col=0)\n",
    "pt.info()"
   ]
  },
  {
   "cell_type": "code",
   "execution_count": 5,
   "metadata": {},
   "outputs": [
    {
     "data": {
      "text/html": [
       "<div>\n",
       "<style scoped>\n",
       "    .dataframe tbody tr th:only-of-type {\n",
       "        vertical-align: middle;\n",
       "    }\n",
       "\n",
       "    .dataframe tbody tr th {\n",
       "        vertical-align: top;\n",
       "    }\n",
       "\n",
       "    .dataframe thead th {\n",
       "        text-align: right;\n",
       "    }\n",
       "</style>\n",
       "<table border=\"1\" class=\"dataframe\">\n",
       "  <thead>\n",
       "    <tr style=\"text-align: right;\">\n",
       "      <th></th>\n",
       "      <th>SUBJECT_ID</th>\n",
       "      <th>GENDER</th>\n",
       "      <th>DOB</th>\n",
       "      <th>DOD</th>\n",
       "      <th>DOD_HOSP</th>\n",
       "      <th>DOD_SSN</th>\n",
       "      <th>EXPIRE_FLAG</th>\n",
       "    </tr>\n",
       "    <tr>\n",
       "      <th>ROW_ID</th>\n",
       "      <th></th>\n",
       "      <th></th>\n",
       "      <th></th>\n",
       "      <th></th>\n",
       "      <th></th>\n",
       "      <th></th>\n",
       "      <th></th>\n",
       "    </tr>\n",
       "  </thead>\n",
       "  <tbody>\n",
       "    <tr>\n",
       "      <td>234</td>\n",
       "      <td>249</td>\n",
       "      <td>F</td>\n",
       "      <td>2075-03-13</td>\n",
       "      <td>NaT</td>\n",
       "      <td>NaN</td>\n",
       "      <td>NaN</td>\n",
       "      <td>0</td>\n",
       "    </tr>\n",
       "    <tr>\n",
       "      <td>235</td>\n",
       "      <td>250</td>\n",
       "      <td>F</td>\n",
       "      <td>2164-12-27</td>\n",
       "      <td>2188-11-22</td>\n",
       "      <td>2188-11-22 00:00:00</td>\n",
       "      <td>NaN</td>\n",
       "      <td>1</td>\n",
       "    </tr>\n",
       "    <tr>\n",
       "      <td>236</td>\n",
       "      <td>251</td>\n",
       "      <td>M</td>\n",
       "      <td>2090-03-15</td>\n",
       "      <td>NaT</td>\n",
       "      <td>NaN</td>\n",
       "      <td>NaN</td>\n",
       "      <td>0</td>\n",
       "    </tr>\n",
       "    <tr>\n",
       "      <td>237</td>\n",
       "      <td>252</td>\n",
       "      <td>M</td>\n",
       "      <td>2078-03-06</td>\n",
       "      <td>NaT</td>\n",
       "      <td>NaN</td>\n",
       "      <td>NaN</td>\n",
       "      <td>0</td>\n",
       "    </tr>\n",
       "    <tr>\n",
       "      <td>238</td>\n",
       "      <td>253</td>\n",
       "      <td>F</td>\n",
       "      <td>2089-11-26</td>\n",
       "      <td>NaT</td>\n",
       "      <td>NaN</td>\n",
       "      <td>NaN</td>\n",
       "      <td>0</td>\n",
       "    </tr>\n",
       "  </tbody>\n",
       "</table>\n",
       "</div>"
      ],
      "text/plain": [
       "        SUBJECT_ID GENDER        DOB        DOD             DOD_HOSP DOD_SSN  \\\n",
       "ROW_ID                                                                         \n",
       "234            249      F 2075-03-13        NaT                  NaN     NaN   \n",
       "235            250      F 2164-12-27 2188-11-22  2188-11-22 00:00:00     NaN   \n",
       "236            251      M 2090-03-15        NaT                  NaN     NaN   \n",
       "237            252      M 2078-03-06        NaT                  NaN     NaN   \n",
       "238            253      F 2089-11-26        NaT                  NaN     NaN   \n",
       "\n",
       "        EXPIRE_FLAG  \n",
       "ROW_ID               \n",
       "234               0  \n",
       "235               1  \n",
       "236               0  \n",
       "237               0  \n",
       "238               0  "
      ]
     },
     "execution_count": 5,
     "metadata": {},
     "output_type": "execute_result"
    }
   ],
   "source": [
    "pt.DOB = pd.to_datetime(pt.DOB)\n",
    "pt.DOD = pd.to_datetime(pt.DOD)\n",
    "pt.head()"
   ]
  },
  {
   "cell_type": "code",
   "execution_count": 6,
   "metadata": {},
   "outputs": [
    {
     "name": "stdout",
     "output_type": "stream",
     "text": [
      "<class 'pandas.core.frame.DataFrame'>\n",
      "Int64Index: 58976 entries, 21 to 58598\n",
      "Data columns (total 18 columns):\n",
      "SUBJECT_ID              58976 non-null int64\n",
      "HADM_ID                 58976 non-null int64\n",
      "ADMITTIME               58976 non-null object\n",
      "DISCHTIME               58976 non-null object\n",
      "DEATHTIME               5854 non-null object\n",
      "ADMISSION_TYPE          58976 non-null object\n",
      "ADMISSION_LOCATION      58976 non-null object\n",
      "DISCHARGE_LOCATION      58976 non-null object\n",
      "INSURANCE               58976 non-null object\n",
      "LANGUAGE                33644 non-null object\n",
      "RELIGION                58518 non-null object\n",
      "MARITAL_STATUS          48848 non-null object\n",
      "ETHNICITY               58976 non-null object\n",
      "EDREGTIME               30877 non-null object\n",
      "EDOUTTIME               30877 non-null object\n",
      "DIAGNOSIS               58951 non-null object\n",
      "HOSPITAL_EXPIRE_FLAG    58976 non-null int64\n",
      "HAS_CHARTEVENTS_DATA    58976 non-null int64\n",
      "dtypes: int64(4), object(14)\n",
      "memory usage: 8.5+ MB\n"
     ]
    }
   ],
   "source": [
    "adm=pd.read_csv(\"ADMISSIONS.csv\", header=0, index_col=0) \n",
    "adm.info()"
   ]
  },
  {
   "cell_type": "code",
   "execution_count": 7,
   "metadata": {},
   "outputs": [
    {
     "data": {
      "text/html": [
       "<div>\n",
       "<style scoped>\n",
       "    .dataframe tbody tr th:only-of-type {\n",
       "        vertical-align: middle;\n",
       "    }\n",
       "\n",
       "    .dataframe tbody tr th {\n",
       "        vertical-align: top;\n",
       "    }\n",
       "\n",
       "    .dataframe thead th {\n",
       "        text-align: right;\n",
       "    }\n",
       "</style>\n",
       "<table border=\"1\" class=\"dataframe\">\n",
       "  <thead>\n",
       "    <tr style=\"text-align: right;\">\n",
       "      <th></th>\n",
       "      <th>SUBJECT_ID</th>\n",
       "      <th>HADM_ID</th>\n",
       "      <th>ADMITTIME</th>\n",
       "      <th>DISCHTIME</th>\n",
       "      <th>DEATHTIME</th>\n",
       "      <th>ETHNICITY</th>\n",
       "      <th>MARITAL_STATUS</th>\n",
       "      <th>ADMISSION_TYPE</th>\n",
       "      <th>INSURANCE</th>\n",
       "    </tr>\n",
       "    <tr>\n",
       "      <th>ROW_ID</th>\n",
       "      <th></th>\n",
       "      <th></th>\n",
       "      <th></th>\n",
       "      <th></th>\n",
       "      <th></th>\n",
       "      <th></th>\n",
       "      <th></th>\n",
       "      <th></th>\n",
       "      <th></th>\n",
       "    </tr>\n",
       "  </thead>\n",
       "  <tbody>\n",
       "    <tr>\n",
       "      <td>21</td>\n",
       "      <td>22</td>\n",
       "      <td>165315</td>\n",
       "      <td>2196-04-09 12:26:00</td>\n",
       "      <td>2196-04-10 15:54:00</td>\n",
       "      <td>NaT</td>\n",
       "      <td>WHITE</td>\n",
       "      <td>MARRIED</td>\n",
       "      <td>EMERGENCY</td>\n",
       "      <td>Private</td>\n",
       "    </tr>\n",
       "    <tr>\n",
       "      <td>22</td>\n",
       "      <td>23</td>\n",
       "      <td>152223</td>\n",
       "      <td>2153-09-03 07:15:00</td>\n",
       "      <td>2153-09-08 19:10:00</td>\n",
       "      <td>NaT</td>\n",
       "      <td>WHITE</td>\n",
       "      <td>MARRIED</td>\n",
       "      <td>ELECTIVE</td>\n",
       "      <td>Medicare</td>\n",
       "    </tr>\n",
       "    <tr>\n",
       "      <td>23</td>\n",
       "      <td>23</td>\n",
       "      <td>124321</td>\n",
       "      <td>2157-10-18 19:34:00</td>\n",
       "      <td>2157-10-25 14:00:00</td>\n",
       "      <td>NaT</td>\n",
       "      <td>WHITE</td>\n",
       "      <td>MARRIED</td>\n",
       "      <td>EMERGENCY</td>\n",
       "      <td>Medicare</td>\n",
       "    </tr>\n",
       "    <tr>\n",
       "      <td>24</td>\n",
       "      <td>24</td>\n",
       "      <td>161859</td>\n",
       "      <td>2139-06-06 16:14:00</td>\n",
       "      <td>2139-06-09 12:48:00</td>\n",
       "      <td>NaT</td>\n",
       "      <td>WHITE</td>\n",
       "      <td>SINGLE</td>\n",
       "      <td>EMERGENCY</td>\n",
       "      <td>Private</td>\n",
       "    </tr>\n",
       "    <tr>\n",
       "      <td>25</td>\n",
       "      <td>25</td>\n",
       "      <td>129635</td>\n",
       "      <td>2160-11-02 02:06:00</td>\n",
       "      <td>2160-11-05 14:55:00</td>\n",
       "      <td>NaT</td>\n",
       "      <td>WHITE</td>\n",
       "      <td>MARRIED</td>\n",
       "      <td>EMERGENCY</td>\n",
       "      <td>Private</td>\n",
       "    </tr>\n",
       "  </tbody>\n",
       "</table>\n",
       "</div>"
      ],
      "text/plain": [
       "        SUBJECT_ID  HADM_ID           ADMITTIME           DISCHTIME DEATHTIME  \\\n",
       "ROW_ID                                                                          \n",
       "21              22   165315 2196-04-09 12:26:00 2196-04-10 15:54:00       NaT   \n",
       "22              23   152223 2153-09-03 07:15:00 2153-09-08 19:10:00       NaT   \n",
       "23              23   124321 2157-10-18 19:34:00 2157-10-25 14:00:00       NaT   \n",
       "24              24   161859 2139-06-06 16:14:00 2139-06-09 12:48:00       NaT   \n",
       "25              25   129635 2160-11-02 02:06:00 2160-11-05 14:55:00       NaT   \n",
       "\n",
       "       ETHNICITY MARITAL_STATUS ADMISSION_TYPE INSURANCE  \n",
       "ROW_ID                                                    \n",
       "21         WHITE        MARRIED      EMERGENCY   Private  \n",
       "22         WHITE        MARRIED       ELECTIVE  Medicare  \n",
       "23         WHITE        MARRIED      EMERGENCY  Medicare  \n",
       "24         WHITE         SINGLE      EMERGENCY   Private  \n",
       "25         WHITE        MARRIED      EMERGENCY   Private  "
      ]
     },
     "execution_count": 7,
     "metadata": {},
     "output_type": "execute_result"
    }
   ],
   "source": [
    "adm = adm[['SUBJECT_ID', 'HADM_ID', 'ADMITTIME', 'DISCHTIME', 'DEATHTIME', 'ETHNICITY', 'MARITAL_STATUS', 'ADMISSION_TYPE', 'INSURANCE']]\n",
    "adm.ADMITTIME = pd.to_datetime(adm.ADMITTIME)\n",
    "adm.DISCHTIME = pd.to_datetime(adm.DISCHTIME)\n",
    "adm.DEATHTIME = pd.to_datetime(adm.DEATHTIME)\n",
    "adm.head()"
   ]
  },
  {
   "cell_type": "code",
   "execution_count": 8,
   "metadata": {},
   "outputs": [
    {
     "data": {
      "text/plain": [
       "0"
      ]
     },
     "execution_count": 8,
     "metadata": {},
     "output_type": "execute_result"
    }
   ],
   "source": [
    "adm.HADM_ID.isnull().sum()"
   ]
  },
  {
   "cell_type": "code",
   "execution_count": 9,
   "metadata": {},
   "outputs": [
    {
     "name": "stdout",
     "output_type": "stream",
     "text": [
      "<class 'pandas.core.frame.DataFrame'>\n",
      "Int64Index: 61532 entries, 365 to 59810\n",
      "Data columns (total 11 columns):\n",
      "SUBJECT_ID        61532 non-null int64\n",
      "HADM_ID           61532 non-null int64\n",
      "ICUSTAY_ID        61532 non-null int64\n",
      "DBSOURCE          61532 non-null object\n",
      "FIRST_CAREUNIT    61532 non-null object\n",
      "LAST_CAREUNIT     61532 non-null object\n",
      "FIRST_WARDID      61532 non-null int64\n",
      "LAST_WARDID       61532 non-null int64\n",
      "INTIME            61532 non-null object\n",
      "OUTTIME           61522 non-null object\n",
      "LOS               61522 non-null float64\n",
      "dtypes: float64(1), int64(5), object(5)\n",
      "memory usage: 5.6+ MB\n"
     ]
    }
   ],
   "source": [
    "icu=pd.read_csv(\"ICUSTAYS.csv\", header=0, index_col=0) \n",
    "icu.info()"
   ]
  },
  {
   "cell_type": "code",
   "execution_count": 10,
   "metadata": {},
   "outputs": [
    {
     "data": {
      "text/plain": [
       "0"
      ]
     },
     "execution_count": 10,
     "metadata": {},
     "output_type": "execute_result"
    }
   ],
   "source": [
    "icu.INTIME = pd.to_datetime(icu.INTIME)\n",
    "icu.OUTTIME = pd.to_datetime(icu.OUTTIME)\n",
    "icu.ICUSTAY_ID.isnull().sum()"
   ]
  },
  {
   "cell_type": "code",
   "execution_count": 11,
   "metadata": {},
   "outputs": [
    {
     "data": {
      "text/plain": [
       "0"
      ]
     },
     "execution_count": 11,
     "metadata": {},
     "output_type": "execute_result"
    }
   ],
   "source": [
    "icu.HADM_ID.isnull().sum()"
   ]
  },
  {
   "cell_type": "code",
   "execution_count": 12,
   "metadata": {},
   "outputs": [],
   "source": [
    "def subj_merge(table1, table2):\n",
    "    return table1.merge(table2, how='left', left_on=['SUBJECT_ID'], right_on=['SUBJECT_ID'])"
   ]
  },
  {
   "cell_type": "code",
   "execution_count": 13,
   "metadata": {
    "scrolled": true
   },
   "outputs": [
    {
     "data": {
      "text/html": [
       "<div>\n",
       "<style scoped>\n",
       "    .dataframe tbody tr th:only-of-type {\n",
       "        vertical-align: middle;\n",
       "    }\n",
       "\n",
       "    .dataframe tbody tr th {\n",
       "        vertical-align: top;\n",
       "    }\n",
       "\n",
       "    .dataframe thead th {\n",
       "        text-align: right;\n",
       "    }\n",
       "</style>\n",
       "<table border=\"1\" class=\"dataframe\">\n",
       "  <thead>\n",
       "    <tr style=\"text-align: right;\">\n",
       "      <th></th>\n",
       "      <th>SUBJECT_ID</th>\n",
       "      <th>GENDER</th>\n",
       "      <th>DOB</th>\n",
       "      <th>DOD</th>\n",
       "      <th>DOD_HOSP</th>\n",
       "      <th>DOD_SSN</th>\n",
       "      <th>EXPIRE_FLAG</th>\n",
       "      <th>HADM_ID</th>\n",
       "      <th>ADMITTIME</th>\n",
       "      <th>DISCHTIME</th>\n",
       "      <th>DEATHTIME</th>\n",
       "      <th>ETHNICITY</th>\n",
       "      <th>MARITAL_STATUS</th>\n",
       "      <th>ADMISSION_TYPE</th>\n",
       "      <th>INSURANCE</th>\n",
       "    </tr>\n",
       "  </thead>\n",
       "  <tbody>\n",
       "    <tr>\n",
       "      <td>0</td>\n",
       "      <td>249</td>\n",
       "      <td>F</td>\n",
       "      <td>2075-03-13</td>\n",
       "      <td>NaT</td>\n",
       "      <td>NaN</td>\n",
       "      <td>NaN</td>\n",
       "      <td>0</td>\n",
       "      <td>116935</td>\n",
       "      <td>2149-12-17 20:41:00</td>\n",
       "      <td>2149-12-31 14:55:00</td>\n",
       "      <td>NaT</td>\n",
       "      <td>WHITE</td>\n",
       "      <td>DIVORCED</td>\n",
       "      <td>EMERGENCY</td>\n",
       "      <td>Medicare</td>\n",
       "    </tr>\n",
       "    <tr>\n",
       "      <td>1</td>\n",
       "      <td>249</td>\n",
       "      <td>F</td>\n",
       "      <td>2075-03-13</td>\n",
       "      <td>NaT</td>\n",
       "      <td>NaN</td>\n",
       "      <td>NaN</td>\n",
       "      <td>0</td>\n",
       "      <td>149546</td>\n",
       "      <td>2155-02-03 20:16:00</td>\n",
       "      <td>2155-02-14 11:15:00</td>\n",
       "      <td>NaT</td>\n",
       "      <td>WHITE</td>\n",
       "      <td>DIVORCED</td>\n",
       "      <td>EMERGENCY</td>\n",
       "      <td>Medicare</td>\n",
       "    </tr>\n",
       "    <tr>\n",
       "      <td>2</td>\n",
       "      <td>249</td>\n",
       "      <td>F</td>\n",
       "      <td>2075-03-13</td>\n",
       "      <td>NaT</td>\n",
       "      <td>NaN</td>\n",
       "      <td>NaN</td>\n",
       "      <td>0</td>\n",
       "      <td>158975</td>\n",
       "      <td>2156-04-27 15:33:00</td>\n",
       "      <td>2156-05-14 15:30:00</td>\n",
       "      <td>NaT</td>\n",
       "      <td>WHITE</td>\n",
       "      <td>DIVORCED</td>\n",
       "      <td>EMERGENCY</td>\n",
       "      <td>Medicare</td>\n",
       "    </tr>\n",
       "    <tr>\n",
       "      <td>3</td>\n",
       "      <td>250</td>\n",
       "      <td>F</td>\n",
       "      <td>2164-12-27</td>\n",
       "      <td>2188-11-22</td>\n",
       "      <td>2188-11-22 00:00:00</td>\n",
       "      <td>NaN</td>\n",
       "      <td>1</td>\n",
       "      <td>124271</td>\n",
       "      <td>2188-11-12 09:22:00</td>\n",
       "      <td>2188-11-22 12:00:00</td>\n",
       "      <td>2188-11-22 12:00:00</td>\n",
       "      <td>BLACK/AFRICAN AMERICAN</td>\n",
       "      <td>SINGLE</td>\n",
       "      <td>EMERGENCY</td>\n",
       "      <td>Self Pay</td>\n",
       "    </tr>\n",
       "    <tr>\n",
       "      <td>4</td>\n",
       "      <td>251</td>\n",
       "      <td>M</td>\n",
       "      <td>2090-03-15</td>\n",
       "      <td>NaT</td>\n",
       "      <td>NaN</td>\n",
       "      <td>NaN</td>\n",
       "      <td>0</td>\n",
       "      <td>117937</td>\n",
       "      <td>2110-07-27 06:46:00</td>\n",
       "      <td>2110-07-29 15:23:00</td>\n",
       "      <td>NaT</td>\n",
       "      <td>UNKNOWN/NOT SPECIFIED</td>\n",
       "      <td>NaN</td>\n",
       "      <td>EMERGENCY</td>\n",
       "      <td>Private</td>\n",
       "    </tr>\n",
       "  </tbody>\n",
       "</table>\n",
       "</div>"
      ],
      "text/plain": [
       "   SUBJECT_ID GENDER        DOB        DOD             DOD_HOSP DOD_SSN  \\\n",
       "0         249      F 2075-03-13        NaT                  NaN     NaN   \n",
       "1         249      F 2075-03-13        NaT                  NaN     NaN   \n",
       "2         249      F 2075-03-13        NaT                  NaN     NaN   \n",
       "3         250      F 2164-12-27 2188-11-22  2188-11-22 00:00:00     NaN   \n",
       "4         251      M 2090-03-15        NaT                  NaN     NaN   \n",
       "\n",
       "   EXPIRE_FLAG  HADM_ID           ADMITTIME           DISCHTIME  \\\n",
       "0            0   116935 2149-12-17 20:41:00 2149-12-31 14:55:00   \n",
       "1            0   149546 2155-02-03 20:16:00 2155-02-14 11:15:00   \n",
       "2            0   158975 2156-04-27 15:33:00 2156-05-14 15:30:00   \n",
       "3            1   124271 2188-11-12 09:22:00 2188-11-22 12:00:00   \n",
       "4            0   117937 2110-07-27 06:46:00 2110-07-29 15:23:00   \n",
       "\n",
       "            DEATHTIME               ETHNICITY MARITAL_STATUS ADMISSION_TYPE  \\\n",
       "0                 NaT                   WHITE       DIVORCED      EMERGENCY   \n",
       "1                 NaT                   WHITE       DIVORCED      EMERGENCY   \n",
       "2                 NaT                   WHITE       DIVORCED      EMERGENCY   \n",
       "3 2188-11-22 12:00:00  BLACK/AFRICAN AMERICAN         SINGLE      EMERGENCY   \n",
       "4                 NaT   UNKNOWN/NOT SPECIFIED            NaN      EMERGENCY   \n",
       "\n",
       "  INSURANCE  \n",
       "0  Medicare  \n",
       "1  Medicare  \n",
       "2  Medicare  \n",
       "3  Self Pay  \n",
       "4   Private  "
      ]
     },
     "execution_count": 13,
     "metadata": {},
     "output_type": "execute_result"
    }
   ],
   "source": [
    "m1=subj_merge(pt, adm)\n",
    "m1.head()"
   ]
  },
  {
   "cell_type": "code",
   "execution_count": 14,
   "metadata": {},
   "outputs": [],
   "source": [
    "def subjadm_merge (table1, table2):\n",
    "    return table1.merge(table2, how='left', left_on=['SUBJECT_ID', 'HADM_ID'], right_on=['SUBJECT_ID', 'HADM_ID'])"
   ]
  },
  {
   "cell_type": "code",
   "execution_count": 15,
   "metadata": {
    "scrolled": true
   },
   "outputs": [
    {
     "data": {
      "text/html": [
       "<div>\n",
       "<style scoped>\n",
       "    .dataframe tbody tr th:only-of-type {\n",
       "        vertical-align: middle;\n",
       "    }\n",
       "\n",
       "    .dataframe tbody tr th {\n",
       "        vertical-align: top;\n",
       "    }\n",
       "\n",
       "    .dataframe thead th {\n",
       "        text-align: right;\n",
       "    }\n",
       "</style>\n",
       "<table border=\"1\" class=\"dataframe\">\n",
       "  <thead>\n",
       "    <tr style=\"text-align: right;\">\n",
       "      <th></th>\n",
       "      <th>SUBJECT_ID</th>\n",
       "      <th>GENDER</th>\n",
       "      <th>DOB</th>\n",
       "      <th>DOD</th>\n",
       "      <th>DOD_HOSP</th>\n",
       "      <th>DOD_SSN</th>\n",
       "      <th>EXPIRE_FLAG</th>\n",
       "      <th>HADM_ID</th>\n",
       "      <th>ADMITTIME</th>\n",
       "      <th>DISCHTIME</th>\n",
       "      <th>...</th>\n",
       "      <th>INSURANCE</th>\n",
       "      <th>ICUSTAY_ID</th>\n",
       "      <th>DBSOURCE</th>\n",
       "      <th>FIRST_CAREUNIT</th>\n",
       "      <th>LAST_CAREUNIT</th>\n",
       "      <th>FIRST_WARDID</th>\n",
       "      <th>LAST_WARDID</th>\n",
       "      <th>INTIME</th>\n",
       "      <th>OUTTIME</th>\n",
       "      <th>LOS</th>\n",
       "    </tr>\n",
       "  </thead>\n",
       "  <tbody>\n",
       "    <tr>\n",
       "      <td>0</td>\n",
       "      <td>249</td>\n",
       "      <td>F</td>\n",
       "      <td>2075-03-13</td>\n",
       "      <td>NaT</td>\n",
       "      <td>NaN</td>\n",
       "      <td>NaN</td>\n",
       "      <td>0</td>\n",
       "      <td>116935</td>\n",
       "      <td>2149-12-17 20:41:00</td>\n",
       "      <td>2149-12-31 14:55:00</td>\n",
       "      <td>...</td>\n",
       "      <td>Medicare</td>\n",
       "      <td>215044.0</td>\n",
       "      <td>carevue</td>\n",
       "      <td>TSICU</td>\n",
       "      <td>MICU</td>\n",
       "      <td>23.0</td>\n",
       "      <td>12.0</td>\n",
       "      <td>2149-12-18 20:06:02</td>\n",
       "      <td>2149-12-24 13:31:45</td>\n",
       "      <td>5.7262</td>\n",
       "    </tr>\n",
       "    <tr>\n",
       "      <td>1</td>\n",
       "      <td>249</td>\n",
       "      <td>F</td>\n",
       "      <td>2075-03-13</td>\n",
       "      <td>NaT</td>\n",
       "      <td>NaN</td>\n",
       "      <td>NaN</td>\n",
       "      <td>0</td>\n",
       "      <td>149546</td>\n",
       "      <td>2155-02-03 20:16:00</td>\n",
       "      <td>2155-02-14 11:15:00</td>\n",
       "      <td>...</td>\n",
       "      <td>Medicare</td>\n",
       "      <td>269035.0</td>\n",
       "      <td>metavision</td>\n",
       "      <td>MICU</td>\n",
       "      <td>MICU</td>\n",
       "      <td>50.0</td>\n",
       "      <td>50.0</td>\n",
       "      <td>2155-02-03 20:17:29</td>\n",
       "      <td>2155-02-05 18:34:02</td>\n",
       "      <td>1.9282</td>\n",
       "    </tr>\n",
       "    <tr>\n",
       "      <td>2</td>\n",
       "      <td>249</td>\n",
       "      <td>F</td>\n",
       "      <td>2075-03-13</td>\n",
       "      <td>NaT</td>\n",
       "      <td>NaN</td>\n",
       "      <td>NaN</td>\n",
       "      <td>0</td>\n",
       "      <td>149546</td>\n",
       "      <td>2155-02-03 20:16:00</td>\n",
       "      <td>2155-02-14 11:15:00</td>\n",
       "      <td>...</td>\n",
       "      <td>Medicare</td>\n",
       "      <td>263055.0</td>\n",
       "      <td>metavision</td>\n",
       "      <td>TSICU</td>\n",
       "      <td>TSICU</td>\n",
       "      <td>14.0</td>\n",
       "      <td>14.0</td>\n",
       "      <td>2155-02-07 18:51:16</td>\n",
       "      <td>2155-02-11 16:00:39</td>\n",
       "      <td>3.8815</td>\n",
       "    </tr>\n",
       "    <tr>\n",
       "      <td>3</td>\n",
       "      <td>249</td>\n",
       "      <td>F</td>\n",
       "      <td>2075-03-13</td>\n",
       "      <td>NaT</td>\n",
       "      <td>NaN</td>\n",
       "      <td>NaN</td>\n",
       "      <td>0</td>\n",
       "      <td>158975</td>\n",
       "      <td>2156-04-27 15:33:00</td>\n",
       "      <td>2156-05-14 15:30:00</td>\n",
       "      <td>...</td>\n",
       "      <td>Medicare</td>\n",
       "      <td>282599.0</td>\n",
       "      <td>metavision</td>\n",
       "      <td>MICU</td>\n",
       "      <td>MICU</td>\n",
       "      <td>52.0</td>\n",
       "      <td>52.0</td>\n",
       "      <td>2156-05-01 18:10:12</td>\n",
       "      <td>2156-05-03 18:43:45</td>\n",
       "      <td>2.0233</td>\n",
       "    </tr>\n",
       "    <tr>\n",
       "      <td>4</td>\n",
       "      <td>249</td>\n",
       "      <td>F</td>\n",
       "      <td>2075-03-13</td>\n",
       "      <td>NaT</td>\n",
       "      <td>NaN</td>\n",
       "      <td>NaN</td>\n",
       "      <td>0</td>\n",
       "      <td>158975</td>\n",
       "      <td>2156-04-27 15:33:00</td>\n",
       "      <td>2156-05-14 15:30:00</td>\n",
       "      <td>...</td>\n",
       "      <td>Medicare</td>\n",
       "      <td>263882.0</td>\n",
       "      <td>metavision</td>\n",
       "      <td>MICU</td>\n",
       "      <td>MICU</td>\n",
       "      <td>52.0</td>\n",
       "      <td>52.0</td>\n",
       "      <td>2156-05-10 17:47:35</td>\n",
       "      <td>2156-05-11 19:16:03</td>\n",
       "      <td>1.0614</td>\n",
       "    </tr>\n",
       "  </tbody>\n",
       "</table>\n",
       "<p>5 rows × 24 columns</p>\n",
       "</div>"
      ],
      "text/plain": [
       "   SUBJECT_ID GENDER        DOB DOD DOD_HOSP DOD_SSN  EXPIRE_FLAG  HADM_ID  \\\n",
       "0         249      F 2075-03-13 NaT      NaN     NaN            0   116935   \n",
       "1         249      F 2075-03-13 NaT      NaN     NaN            0   149546   \n",
       "2         249      F 2075-03-13 NaT      NaN     NaN            0   149546   \n",
       "3         249      F 2075-03-13 NaT      NaN     NaN            0   158975   \n",
       "4         249      F 2075-03-13 NaT      NaN     NaN            0   158975   \n",
       "\n",
       "            ADMITTIME           DISCHTIME  ... INSURANCE ICUSTAY_ID  \\\n",
       "0 2149-12-17 20:41:00 2149-12-31 14:55:00  ...  Medicare   215044.0   \n",
       "1 2155-02-03 20:16:00 2155-02-14 11:15:00  ...  Medicare   269035.0   \n",
       "2 2155-02-03 20:16:00 2155-02-14 11:15:00  ...  Medicare   263055.0   \n",
       "3 2156-04-27 15:33:00 2156-05-14 15:30:00  ...  Medicare   282599.0   \n",
       "4 2156-04-27 15:33:00 2156-05-14 15:30:00  ...  Medicare   263882.0   \n",
       "\n",
       "     DBSOURCE FIRST_CAREUNIT LAST_CAREUNIT  FIRST_WARDID LAST_WARDID  \\\n",
       "0     carevue          TSICU          MICU          23.0        12.0   \n",
       "1  metavision           MICU          MICU          50.0        50.0   \n",
       "2  metavision          TSICU         TSICU          14.0        14.0   \n",
       "3  metavision           MICU          MICU          52.0        52.0   \n",
       "4  metavision           MICU          MICU          52.0        52.0   \n",
       "\n",
       "               INTIME             OUTTIME     LOS  \n",
       "0 2149-12-18 20:06:02 2149-12-24 13:31:45  5.7262  \n",
       "1 2155-02-03 20:17:29 2155-02-05 18:34:02  1.9282  \n",
       "2 2155-02-07 18:51:16 2155-02-11 16:00:39  3.8815  \n",
       "3 2156-05-01 18:10:12 2156-05-03 18:43:45  2.0233  \n",
       "4 2156-05-10 17:47:35 2156-05-11 19:16:03  1.0614  \n",
       "\n",
       "[5 rows x 24 columns]"
      ]
     },
     "execution_count": 15,
     "metadata": {},
     "output_type": "execute_result"
    }
   ],
   "source": [
    "m2=subjadm_merge(m1,icu)\n",
    "m2.head()"
   ]
  },
  {
   "cell_type": "code",
   "execution_count": 16,
   "metadata": {},
   "outputs": [
    {
     "name": "stdout",
     "output_type": "stream",
     "text": [
      "<class 'pandas.core.frame.DataFrame'>\n",
      "Int64Index: 62722 entries, 0 to 62721\n",
      "Data columns (total 24 columns):\n",
      "SUBJECT_ID        62722 non-null int64\n",
      "GENDER            62722 non-null object\n",
      "DOB               62722 non-null datetime64[ns]\n",
      "DOD               24735 non-null datetime64[ns]\n",
      "DOD_HOSP          16618 non-null object\n",
      "DOD_SSN           20905 non-null object\n",
      "EXPIRE_FLAG       62722 non-null int64\n",
      "HADM_ID           62722 non-null int64\n",
      "ADMITTIME         62722 non-null datetime64[ns]\n",
      "DISCHTIME         62722 non-null datetime64[ns]\n",
      "DEATHTIME         6650 non-null datetime64[ns]\n",
      "ETHNICITY         62722 non-null object\n",
      "MARITAL_STATUS    52344 non-null object\n",
      "ADMISSION_TYPE    62722 non-null object\n",
      "INSURANCE         62722 non-null object\n",
      "ICUSTAY_ID        61532 non-null float64\n",
      "DBSOURCE          61532 non-null object\n",
      "FIRST_CAREUNIT    61532 non-null object\n",
      "LAST_CAREUNIT     61532 non-null object\n",
      "FIRST_WARDID      61532 non-null float64\n",
      "LAST_WARDID       61532 non-null float64\n",
      "INTIME            61532 non-null datetime64[ns]\n",
      "OUTTIME           61522 non-null datetime64[ns]\n",
      "LOS               61522 non-null float64\n",
      "dtypes: datetime64[ns](7), float64(4), int64(3), object(10)\n",
      "memory usage: 12.0+ MB\n"
     ]
    }
   ],
   "source": [
    "m2.info()"
   ]
  },
  {
   "cell_type": "code",
   "execution_count": 17,
   "metadata": {},
   "outputs": [
    {
     "data": {
      "text/html": [
       "<div>\n",
       "<style scoped>\n",
       "    .dataframe tbody tr th:only-of-type {\n",
       "        vertical-align: middle;\n",
       "    }\n",
       "\n",
       "    .dataframe tbody tr th {\n",
       "        vertical-align: top;\n",
       "    }\n",
       "\n",
       "    .dataframe thead th {\n",
       "        text-align: right;\n",
       "    }\n",
       "</style>\n",
       "<table border=\"1\" class=\"dataframe\">\n",
       "  <thead>\n",
       "    <tr style=\"text-align: right;\">\n",
       "      <th></th>\n",
       "      <th>SUBJECT_ID</th>\n",
       "      <th>GENDER</th>\n",
       "      <th>DOB</th>\n",
       "      <th>DOD</th>\n",
       "      <th>DOD_HOSP</th>\n",
       "      <th>DOD_SSN</th>\n",
       "      <th>EXPIRE_FLAG</th>\n",
       "      <th>HADM_ID</th>\n",
       "      <th>ADMITTIME</th>\n",
       "      <th>DISCHTIME</th>\n",
       "      <th>...</th>\n",
       "      <th>INSURANCE</th>\n",
       "      <th>ICUSTAY_ID</th>\n",
       "      <th>DBSOURCE</th>\n",
       "      <th>FIRST_CAREUNIT</th>\n",
       "      <th>LAST_CAREUNIT</th>\n",
       "      <th>FIRST_WARDID</th>\n",
       "      <th>LAST_WARDID</th>\n",
       "      <th>INTIME</th>\n",
       "      <th>OUTTIME</th>\n",
       "      <th>LOS</th>\n",
       "    </tr>\n",
       "  </thead>\n",
       "  <tbody>\n",
       "    <tr>\n",
       "      <td>0</td>\n",
       "      <td>249</td>\n",
       "      <td>F</td>\n",
       "      <td>2075-03-13</td>\n",
       "      <td>NaT</td>\n",
       "      <td>NaN</td>\n",
       "      <td>NaN</td>\n",
       "      <td>0</td>\n",
       "      <td>116935</td>\n",
       "      <td>2149-12-17</td>\n",
       "      <td>2149-12-31 14:55:00</td>\n",
       "      <td>...</td>\n",
       "      <td>Medicare</td>\n",
       "      <td>215044.0</td>\n",
       "      <td>carevue</td>\n",
       "      <td>TSICU</td>\n",
       "      <td>MICU</td>\n",
       "      <td>23.0</td>\n",
       "      <td>12.0</td>\n",
       "      <td>2149-12-18 20:06:02</td>\n",
       "      <td>2149-12-24 13:31:45</td>\n",
       "      <td>5.7262</td>\n",
       "    </tr>\n",
       "    <tr>\n",
       "      <td>1</td>\n",
       "      <td>249</td>\n",
       "      <td>F</td>\n",
       "      <td>2075-03-13</td>\n",
       "      <td>NaT</td>\n",
       "      <td>NaN</td>\n",
       "      <td>NaN</td>\n",
       "      <td>0</td>\n",
       "      <td>149546</td>\n",
       "      <td>2155-02-03</td>\n",
       "      <td>2155-02-14 11:15:00</td>\n",
       "      <td>...</td>\n",
       "      <td>Medicare</td>\n",
       "      <td>269035.0</td>\n",
       "      <td>metavision</td>\n",
       "      <td>MICU</td>\n",
       "      <td>MICU</td>\n",
       "      <td>50.0</td>\n",
       "      <td>50.0</td>\n",
       "      <td>2155-02-03 20:17:29</td>\n",
       "      <td>2155-02-05 18:34:02</td>\n",
       "      <td>1.9282</td>\n",
       "    </tr>\n",
       "    <tr>\n",
       "      <td>2</td>\n",
       "      <td>249</td>\n",
       "      <td>F</td>\n",
       "      <td>2075-03-13</td>\n",
       "      <td>NaT</td>\n",
       "      <td>NaN</td>\n",
       "      <td>NaN</td>\n",
       "      <td>0</td>\n",
       "      <td>149546</td>\n",
       "      <td>2155-02-03</td>\n",
       "      <td>2155-02-14 11:15:00</td>\n",
       "      <td>...</td>\n",
       "      <td>Medicare</td>\n",
       "      <td>263055.0</td>\n",
       "      <td>metavision</td>\n",
       "      <td>TSICU</td>\n",
       "      <td>TSICU</td>\n",
       "      <td>14.0</td>\n",
       "      <td>14.0</td>\n",
       "      <td>2155-02-07 18:51:16</td>\n",
       "      <td>2155-02-11 16:00:39</td>\n",
       "      <td>3.8815</td>\n",
       "    </tr>\n",
       "    <tr>\n",
       "      <td>3</td>\n",
       "      <td>249</td>\n",
       "      <td>F</td>\n",
       "      <td>2075-03-13</td>\n",
       "      <td>NaT</td>\n",
       "      <td>NaN</td>\n",
       "      <td>NaN</td>\n",
       "      <td>0</td>\n",
       "      <td>158975</td>\n",
       "      <td>2156-04-27</td>\n",
       "      <td>2156-05-14 15:30:00</td>\n",
       "      <td>...</td>\n",
       "      <td>Medicare</td>\n",
       "      <td>282599.0</td>\n",
       "      <td>metavision</td>\n",
       "      <td>MICU</td>\n",
       "      <td>MICU</td>\n",
       "      <td>52.0</td>\n",
       "      <td>52.0</td>\n",
       "      <td>2156-05-01 18:10:12</td>\n",
       "      <td>2156-05-03 18:43:45</td>\n",
       "      <td>2.0233</td>\n",
       "    </tr>\n",
       "    <tr>\n",
       "      <td>4</td>\n",
       "      <td>249</td>\n",
       "      <td>F</td>\n",
       "      <td>2075-03-13</td>\n",
       "      <td>NaT</td>\n",
       "      <td>NaN</td>\n",
       "      <td>NaN</td>\n",
       "      <td>0</td>\n",
       "      <td>158975</td>\n",
       "      <td>2156-04-27</td>\n",
       "      <td>2156-05-14 15:30:00</td>\n",
       "      <td>...</td>\n",
       "      <td>Medicare</td>\n",
       "      <td>263882.0</td>\n",
       "      <td>metavision</td>\n",
       "      <td>MICU</td>\n",
       "      <td>MICU</td>\n",
       "      <td>52.0</td>\n",
       "      <td>52.0</td>\n",
       "      <td>2156-05-10 17:47:35</td>\n",
       "      <td>2156-05-11 19:16:03</td>\n",
       "      <td>1.0614</td>\n",
       "    </tr>\n",
       "  </tbody>\n",
       "</table>\n",
       "<p>5 rows × 24 columns</p>\n",
       "</div>"
      ],
      "text/plain": [
       "   SUBJECT_ID GENDER        DOB DOD DOD_HOSP DOD_SSN  EXPIRE_FLAG  HADM_ID  \\\n",
       "0         249      F 2075-03-13 NaT      NaN     NaN            0   116935   \n",
       "1         249      F 2075-03-13 NaT      NaN     NaN            0   149546   \n",
       "2         249      F 2075-03-13 NaT      NaN     NaN            0   149546   \n",
       "3         249      F 2075-03-13 NaT      NaN     NaN            0   158975   \n",
       "4         249      F 2075-03-13 NaT      NaN     NaN            0   158975   \n",
       "\n",
       "   ADMITTIME           DISCHTIME  ... INSURANCE ICUSTAY_ID    DBSOURCE  \\\n",
       "0 2149-12-17 2149-12-31 14:55:00  ...  Medicare   215044.0     carevue   \n",
       "1 2155-02-03 2155-02-14 11:15:00  ...  Medicare   269035.0  metavision   \n",
       "2 2155-02-03 2155-02-14 11:15:00  ...  Medicare   263055.0  metavision   \n",
       "3 2156-04-27 2156-05-14 15:30:00  ...  Medicare   282599.0  metavision   \n",
       "4 2156-04-27 2156-05-14 15:30:00  ...  Medicare   263882.0  metavision   \n",
       "\n",
       "  FIRST_CAREUNIT LAST_CAREUNIT  FIRST_WARDID LAST_WARDID              INTIME  \\\n",
       "0          TSICU          MICU          23.0        12.0 2149-12-18 20:06:02   \n",
       "1           MICU          MICU          50.0        50.0 2155-02-03 20:17:29   \n",
       "2          TSICU         TSICU          14.0        14.0 2155-02-07 18:51:16   \n",
       "3           MICU          MICU          52.0        52.0 2156-05-01 18:10:12   \n",
       "4           MICU          MICU          52.0        52.0 2156-05-10 17:47:35   \n",
       "\n",
       "              OUTTIME     LOS  \n",
       "0 2149-12-24 13:31:45  5.7262  \n",
       "1 2155-02-05 18:34:02  1.9282  \n",
       "2 2155-02-11 16:00:39  3.8815  \n",
       "3 2156-05-03 18:43:45  2.0233  \n",
       "4 2156-05-11 19:16:03  1.0614  \n",
       "\n",
       "[5 rows x 24 columns]"
      ]
     },
     "execution_count": 17,
     "metadata": {},
     "output_type": "execute_result"
    }
   ],
   "source": [
    "m2['ADMITTIME'] = pd.to_datetime(m2['ADMITTIME']).dt.normalize()\n",
    "m2.head()"
   ]
  },
  {
   "cell_type": "code",
   "execution_count": 18,
   "metadata": {},
   "outputs": [],
   "source": [
    "m2.to_csv('m2.csv')"
   ]
  },
  {
   "cell_type": "code",
   "execution_count": 19,
   "metadata": {},
   "outputs": [
    {
     "name": "stdout",
     "output_type": "stream",
     "text": [
      "<class 'pandas.core.frame.DataFrame'>\n",
      "Int64Index: 5000 entries, 8249 to 39169\n",
      "Data columns (total 24 columns):\n",
      "SUBJECT_ID        5000 non-null int64\n",
      "GENDER            5000 non-null object\n",
      "DOB               5000 non-null datetime64[ns]\n",
      "DOD               2022 non-null datetime64[ns]\n",
      "DOD_HOSP          1321 non-null object\n",
      "DOD_SSN           1747 non-null object\n",
      "EXPIRE_FLAG       5000 non-null int64\n",
      "HADM_ID           5000 non-null int64\n",
      "ADMITTIME         5000 non-null datetime64[ns]\n",
      "DISCHTIME         5000 non-null datetime64[ns]\n",
      "DEATHTIME         528 non-null datetime64[ns]\n",
      "ETHNICITY         5000 non-null object\n",
      "MARITAL_STATUS    4132 non-null object\n",
      "ADMISSION_TYPE    5000 non-null object\n",
      "INSURANCE         5000 non-null object\n",
      "ICUSTAY_ID        4913 non-null float64\n",
      "DBSOURCE          4913 non-null object\n",
      "FIRST_CAREUNIT    4913 non-null object\n",
      "LAST_CAREUNIT     4913 non-null object\n",
      "FIRST_WARDID      4913 non-null float64\n",
      "LAST_WARDID       4913 non-null float64\n",
      "INTIME            4913 non-null datetime64[ns]\n",
      "OUTTIME           4912 non-null datetime64[ns]\n",
      "LOS               4912 non-null float64\n",
      "dtypes: datetime64[ns](7), float64(4), int64(3), object(10)\n",
      "memory usage: 976.6+ KB\n"
     ]
    }
   ],
   "source": [
    "m2_1icu = m2.groupby('ICUSTAY_ID')\n",
    "m2_1icu.apply(lambda x: x.sample(n=1, replace=True)).head()\n",
    "\n",
    "m2_5k=m2.sample(n=5000)\n",
    "m2_5k.info()"
   ]
  },
  {
   "cell_type": "code",
   "execution_count": 20,
   "metadata": {},
   "outputs": [
    {
     "name": "stdout",
     "output_type": "stream",
     "text": [
      "<class 'pandas.core.frame.DataFrame'>\n",
      "Int64Index: 62722 entries, 0 to 62721\n",
      "Data columns (total 24 columns):\n",
      "SUBJECT_ID        62722 non-null int64\n",
      "GENDER            62722 non-null object\n",
      "DOB               62722 non-null datetime64[ns]\n",
      "DOD               24735 non-null datetime64[ns]\n",
      "DOD_HOSP          16618 non-null object\n",
      "DOD_SSN           20905 non-null object\n",
      "EXPIRE_FLAG       62722 non-null int64\n",
      "HADM_ID           62722 non-null int64\n",
      "ADMITTIME         62722 non-null datetime64[ns]\n",
      "DISCHTIME         62722 non-null datetime64[ns]\n",
      "DEATHTIME         6650 non-null datetime64[ns]\n",
      "ETHNICITY         62722 non-null object\n",
      "MARITAL_STATUS    52344 non-null object\n",
      "ADMISSION_TYPE    62722 non-null object\n",
      "INSURANCE         62722 non-null object\n",
      "ICUSTAY_ID        61532 non-null float64\n",
      "DBSOURCE          61532 non-null object\n",
      "FIRST_CAREUNIT    61532 non-null object\n",
      "LAST_CAREUNIT     61532 non-null object\n",
      "FIRST_WARDID      61532 non-null float64\n",
      "LAST_WARDID       61532 non-null float64\n",
      "INTIME            61532 non-null datetime64[ns]\n",
      "OUTTIME           61522 non-null datetime64[ns]\n",
      "LOS               61522 non-null float64\n",
      "dtypes: datetime64[ns](7), float64(4), int64(3), object(10)\n",
      "memory usage: 12.0+ MB\n"
     ]
    }
   ],
   "source": [
    "m2.info()"
   ]
  },
  {
   "cell_type": "code",
   "execution_count": 21,
   "metadata": {},
   "outputs": [
    {
     "name": "stdout",
     "output_type": "stream",
     "text": [
      "<class 'pandas.core.frame.DataFrame'>\n",
      "Int64Index: 651047 entries, 0 to 651046\n",
      "Data columns (total 6 columns):\n",
      "SUBJECT_ID     651047 non-null int64\n",
      "HADM_ID        651047 non-null int64\n",
      "SEQ_NUM        651000 non-null float64\n",
      "ICD9_CODE      651000 non-null object\n",
      "SHORT_TITLE    634709 non-null object\n",
      "LONG_TITLE     634709 non-null object\n",
      "dtypes: float64(1), int64(2), object(3)\n",
      "memory usage: 34.8+ MB\n"
     ]
    }
   ],
   "source": [
    "dx=pd.read_csv(\"DIAGNOSES_ICD.csv\", header=0, index_col=0) \n",
    "dx_codes=pd.read_csv(\"D_ICD_DIAGNOSES.csv\", header=0, index_col=0)\n",
    "dx[['SUBJECT_ID', 'HADM_ID', 'SEQ_NUM']] = dx[['SUBJECT_ID', 'HADM_ID', 'SEQ_NUM']]\n",
    "dx_codes=dx_codes[['ICD9_CODE', 'SHORT_TITLE', 'LONG_TITLE']]\n",
    "dx=dx.merge(dx_codes, how='left', left_on='ICD9_CODE', right_on='ICD9_CODE')\n",
    "dx.info()"
   ]
  },
  {
   "cell_type": "code",
   "execution_count": 22,
   "metadata": {},
   "outputs": [
    {
     "data": {
      "text/plain": [
       "47"
      ]
     },
     "execution_count": 22,
     "metadata": {},
     "output_type": "execute_result"
    }
   ],
   "source": [
    "dx.ICD9_CODE.isnull().sum()"
   ]
  },
  {
   "cell_type": "code",
   "execution_count": 23,
   "metadata": {},
   "outputs": [
    {
     "name": "stdout",
     "output_type": "stream",
     "text": [
      "<class 'pandas.core.frame.DataFrame'>\n",
      "Int64Index: 651047 entries, 0 to 651046\n",
      "Data columns (total 6 columns):\n",
      "SUBJECT_ID     651047 non-null int64\n",
      "HADM_ID        651047 non-null int64\n",
      "SEQ_NUM        651000 non-null float64\n",
      "ICD9_CODE      651000 non-null object\n",
      "SHORT_TITLE    634709 non-null object\n",
      "LONG_TITLE     634709 non-null object\n",
      "dtypes: float64(1), int64(2), object(3)\n",
      "memory usage: 34.8+ MB\n"
     ]
    }
   ],
   "source": [
    "# drop ICD9_CODE with NULL value\n",
    "dx.drop_duplicates().set_index('ICD9_CODE')\n",
    "dx.info()"
   ]
  },
  {
   "cell_type": "code",
   "execution_count": 24,
   "metadata": {},
   "outputs": [
    {
     "data": {
      "text/html": [
       "<div>\n",
       "<style scoped>\n",
       "    .dataframe tbody tr th:only-of-type {\n",
       "        vertical-align: middle;\n",
       "    }\n",
       "\n",
       "    .dataframe tbody tr th {\n",
       "        vertical-align: top;\n",
       "    }\n",
       "\n",
       "    .dataframe thead th {\n",
       "        text-align: right;\n",
       "    }\n",
       "</style>\n",
       "<table border=\"1\" class=\"dataframe\">\n",
       "  <thead>\n",
       "    <tr style=\"text-align: right;\">\n",
       "      <th></th>\n",
       "      <th>SUBJECT_ID</th>\n",
       "      <th>GENDER</th>\n",
       "      <th>DOB</th>\n",
       "      <th>DOD</th>\n",
       "      <th>DOD_HOSP</th>\n",
       "      <th>DOD_SSN</th>\n",
       "      <th>EXPIRE_FLAG</th>\n",
       "      <th>HADM_ID</th>\n",
       "      <th>ADMITTIME</th>\n",
       "      <th>DISCHTIME</th>\n",
       "      <th>...</th>\n",
       "      <th>LAST_CAREUNIT</th>\n",
       "      <th>FIRST_WARDID</th>\n",
       "      <th>LAST_WARDID</th>\n",
       "      <th>INTIME</th>\n",
       "      <th>OUTTIME</th>\n",
       "      <th>LOS</th>\n",
       "      <th>SEQ_NUM</th>\n",
       "      <th>ICD9_CODE</th>\n",
       "      <th>SHORT_TITLE</th>\n",
       "      <th>LONG_TITLE</th>\n",
       "    </tr>\n",
       "  </thead>\n",
       "  <tbody>\n",
       "    <tr>\n",
       "      <td>0</td>\n",
       "      <td>249</td>\n",
       "      <td>F</td>\n",
       "      <td>2075-03-13</td>\n",
       "      <td>NaT</td>\n",
       "      <td>NaN</td>\n",
       "      <td>NaN</td>\n",
       "      <td>0</td>\n",
       "      <td>116935</td>\n",
       "      <td>2149-12-17</td>\n",
       "      <td>2149-12-31 14:55:00</td>\n",
       "      <td>...</td>\n",
       "      <td>MICU</td>\n",
       "      <td>23.0</td>\n",
       "      <td>12.0</td>\n",
       "      <td>2149-12-18 20:06:02</td>\n",
       "      <td>2149-12-24 13:31:45</td>\n",
       "      <td>5.7262</td>\n",
       "      <td>1.0</td>\n",
       "      <td>49322</td>\n",
       "      <td>Ch obst asth w (ac) exac</td>\n",
       "      <td>Chronic obstructive asthma with (acute) exacer...</td>\n",
       "    </tr>\n",
       "    <tr>\n",
       "      <td>1</td>\n",
       "      <td>249</td>\n",
       "      <td>F</td>\n",
       "      <td>2075-03-13</td>\n",
       "      <td>NaT</td>\n",
       "      <td>NaN</td>\n",
       "      <td>NaN</td>\n",
       "      <td>0</td>\n",
       "      <td>116935</td>\n",
       "      <td>2149-12-17</td>\n",
       "      <td>2149-12-31 14:55:00</td>\n",
       "      <td>...</td>\n",
       "      <td>MICU</td>\n",
       "      <td>23.0</td>\n",
       "      <td>12.0</td>\n",
       "      <td>2149-12-18 20:06:02</td>\n",
       "      <td>2149-12-24 13:31:45</td>\n",
       "      <td>5.7262</td>\n",
       "      <td>2.0</td>\n",
       "      <td>51882</td>\n",
       "      <td>Other pulmonary insuff</td>\n",
       "      <td>Other pulmonary insufficiency, not elsewhere c...</td>\n",
       "    </tr>\n",
       "    <tr>\n",
       "      <td>2</td>\n",
       "      <td>249</td>\n",
       "      <td>F</td>\n",
       "      <td>2075-03-13</td>\n",
       "      <td>NaT</td>\n",
       "      <td>NaN</td>\n",
       "      <td>NaN</td>\n",
       "      <td>0</td>\n",
       "      <td>116935</td>\n",
       "      <td>2149-12-17</td>\n",
       "      <td>2149-12-31 14:55:00</td>\n",
       "      <td>...</td>\n",
       "      <td>MICU</td>\n",
       "      <td>23.0</td>\n",
       "      <td>12.0</td>\n",
       "      <td>2149-12-18 20:06:02</td>\n",
       "      <td>2149-12-24 13:31:45</td>\n",
       "      <td>5.7262</td>\n",
       "      <td>3.0</td>\n",
       "      <td>41071</td>\n",
       "      <td>Subendo infarct, initial</td>\n",
       "      <td>Subendocardial infarction, initial episode of ...</td>\n",
       "    </tr>\n",
       "    <tr>\n",
       "      <td>3</td>\n",
       "      <td>249</td>\n",
       "      <td>F</td>\n",
       "      <td>2075-03-13</td>\n",
       "      <td>NaT</td>\n",
       "      <td>NaN</td>\n",
       "      <td>NaN</td>\n",
       "      <td>0</td>\n",
       "      <td>116935</td>\n",
       "      <td>2149-12-17</td>\n",
       "      <td>2149-12-31 14:55:00</td>\n",
       "      <td>...</td>\n",
       "      <td>MICU</td>\n",
       "      <td>23.0</td>\n",
       "      <td>12.0</td>\n",
       "      <td>2149-12-18 20:06:02</td>\n",
       "      <td>2149-12-24 13:31:45</td>\n",
       "      <td>5.7262</td>\n",
       "      <td>4.0</td>\n",
       "      <td>42841</td>\n",
       "      <td>Ac syst/diastol hrt fail</td>\n",
       "      <td>Acute combined systolic and diastolic heart fa...</td>\n",
       "    </tr>\n",
       "    <tr>\n",
       "      <td>4</td>\n",
       "      <td>249</td>\n",
       "      <td>F</td>\n",
       "      <td>2075-03-13</td>\n",
       "      <td>NaT</td>\n",
       "      <td>NaN</td>\n",
       "      <td>NaN</td>\n",
       "      <td>0</td>\n",
       "      <td>116935</td>\n",
       "      <td>2149-12-17</td>\n",
       "      <td>2149-12-31 14:55:00</td>\n",
       "      <td>...</td>\n",
       "      <td>MICU</td>\n",
       "      <td>23.0</td>\n",
       "      <td>12.0</td>\n",
       "      <td>2149-12-18 20:06:02</td>\n",
       "      <td>2149-12-24 13:31:45</td>\n",
       "      <td>5.7262</td>\n",
       "      <td>5.0</td>\n",
       "      <td>99812</td>\n",
       "      <td>Hematoma complic proc</td>\n",
       "      <td>Hematoma complicating a procedure</td>\n",
       "    </tr>\n",
       "  </tbody>\n",
       "</table>\n",
       "<p>5 rows × 28 columns</p>\n",
       "</div>"
      ],
      "text/plain": [
       "   SUBJECT_ID GENDER        DOB DOD DOD_HOSP DOD_SSN  EXPIRE_FLAG  HADM_ID  \\\n",
       "0         249      F 2075-03-13 NaT      NaN     NaN            0   116935   \n",
       "1         249      F 2075-03-13 NaT      NaN     NaN            0   116935   \n",
       "2         249      F 2075-03-13 NaT      NaN     NaN            0   116935   \n",
       "3         249      F 2075-03-13 NaT      NaN     NaN            0   116935   \n",
       "4         249      F 2075-03-13 NaT      NaN     NaN            0   116935   \n",
       "\n",
       "   ADMITTIME           DISCHTIME  ... LAST_CAREUNIT FIRST_WARDID LAST_WARDID  \\\n",
       "0 2149-12-17 2149-12-31 14:55:00  ...          MICU         23.0        12.0   \n",
       "1 2149-12-17 2149-12-31 14:55:00  ...          MICU         23.0        12.0   \n",
       "2 2149-12-17 2149-12-31 14:55:00  ...          MICU         23.0        12.0   \n",
       "3 2149-12-17 2149-12-31 14:55:00  ...          MICU         23.0        12.0   \n",
       "4 2149-12-17 2149-12-31 14:55:00  ...          MICU         23.0        12.0   \n",
       "\n",
       "               INTIME             OUTTIME     LOS SEQ_NUM ICD9_CODE  \\\n",
       "0 2149-12-18 20:06:02 2149-12-24 13:31:45  5.7262     1.0     49322   \n",
       "1 2149-12-18 20:06:02 2149-12-24 13:31:45  5.7262     2.0     51882   \n",
       "2 2149-12-18 20:06:02 2149-12-24 13:31:45  5.7262     3.0     41071   \n",
       "3 2149-12-18 20:06:02 2149-12-24 13:31:45  5.7262     4.0     42841   \n",
       "4 2149-12-18 20:06:02 2149-12-24 13:31:45  5.7262     5.0     99812   \n",
       "\n",
       "                SHORT_TITLE                                         LONG_TITLE  \n",
       "0  Ch obst asth w (ac) exac  Chronic obstructive asthma with (acute) exacer...  \n",
       "1    Other pulmonary insuff  Other pulmonary insufficiency, not elsewhere c...  \n",
       "2  Subendo infarct, initial  Subendocardial infarction, initial episode of ...  \n",
       "3  Ac syst/diastol hrt fail  Acute combined systolic and diastolic heart fa...  \n",
       "4     Hematoma complic proc                  Hematoma complicating a procedure  \n",
       "\n",
       "[5 rows x 28 columns]"
      ]
     },
     "execution_count": 24,
     "metadata": {},
     "output_type": "execute_result"
    }
   ],
   "source": [
    "m3=subjadm_merge(m2, dx)\n",
    "m3.head()"
   ]
  },
  {
   "cell_type": "code",
   "execution_count": 25,
   "metadata": {},
   "outputs": [],
   "source": [
    "#m3.to_csv('m3.csv')"
   ]
  },
  {
   "cell_type": "code",
   "execution_count": 26,
   "metadata": {},
   "outputs": [],
   "source": [
    "m3['AGE'] = (m3['INTIME']).dt.date - (m3['DOB']).dt.date\n",
    "m3['AGE']=pd.to_numeric(m3['AGE'], downcast='integer', errors='ignore')\n",
    "m3['AGE']=m3['AGE'].astype(str)\n",
    "m3['AGE'] =m3['AGE'].map(lambda x: x.rstrip(' days, 0:00:00'))"
   ]
  },
  {
   "cell_type": "code",
   "execution_count": 27,
   "metadata": {},
   "outputs": [
    {
     "data": {
      "text/plain": [
       "0"
      ]
     },
     "execution_count": 27,
     "metadata": {},
     "output_type": "execute_result"
    }
   ],
   "source": [
    "m3['AGE'].isna().sum()"
   ]
  },
  {
   "cell_type": "code",
   "execution_count": 28,
   "metadata": {},
   "outputs": [
    {
     "data": {
      "text/plain": [
       "0    27308\n",
       "1    27308\n",
       "2    27308\n",
       "3    27308\n",
       "4    27308\n",
       "Name: AGE, dtype: object"
      ]
     },
     "execution_count": 28,
     "metadata": {},
     "output_type": "execute_result"
    }
   ],
   "source": [
    "m3['AGE']=pd.to_numeric(m3['AGE'], downcast='integer', errors='ignore')\n",
    "m3.AGE.head()"
   ]
  },
  {
   "cell_type": "code",
   "execution_count": 29,
   "metadata": {},
   "outputs": [
    {
     "data": {
      "text/plain": [
       "0"
      ]
     },
     "execution_count": 29,
     "metadata": {},
     "output_type": "execute_result"
    }
   ],
   "source": [
    "m3.AGE.isnull().sum()"
   ]
  },
  {
   "cell_type": "code",
   "execution_count": 30,
   "metadata": {},
   "outputs": [],
   "source": [
    "m3.to_csv('m3.csv')"
   ]
  },
  {
   "cell_type": "code",
   "execution_count": 31,
   "metadata": {},
   "outputs": [],
   "source": [
    "m3_kids = m3[m3.AGE<='6570']"
   ]
  },
  {
   "cell_type": "code",
   "execution_count": 32,
   "metadata": {},
   "outputs": [],
   "source": [
    "m3_adults = m3[m3.AGE>'6570']\n",
    "m3_adults.info()"
   ]
  },
  {
   "cell_type": "code",
   "execution_count": 33,
   "metadata": {},
   "outputs": [],
   "source": [
    "kids_sample_id=m3_kids.groupby('SUBJECT_ID').apply(lambda m3_kids : m3_kids.sample(1))\n",
    "kids_sample_id=kids_sample_id[['SUBJECT_ID']].sample (n=5000, random_state=1)\n",
    "kids_sample_id.head()"
   ]
  },
  {
   "cell_type": "code",
   "execution_count": 34,
   "metadata": {},
   "outputs": [],
   "source": [
    "kids_sample_id.set_index('SUBJECT_ID')"
   ]
  },
  {
   "cell_type": "code",
   "execution_count": 35,
   "metadata": {},
   "outputs": [],
   "source": [
    "kids_id_list=kids_sample_id['SUBJECT_ID'].values.tolist()\n",
    "kids_id_list"
   ]
  },
  {
   "cell_type": "code",
   "execution_count": 36,
   "metadata": {},
   "outputs": [],
   "source": [
    "m3_kids.set_index('SUBJECT_ID')"
   ]
  },
  {
   "cell_type": "code",
   "execution_count": 37,
   "metadata": {},
   "outputs": [],
   "source": [
    "kids_5k=m3_kids[m3_kids['SUBJECT_ID'].isin(kids_id_list)]\n",
    "kids_5k.info()"
   ]
  },
  {
   "cell_type": "code",
   "execution_count": 38,
   "metadata": {},
   "outputs": [],
   "source": [
    "kids_5k.to_csv('kids_5k.csv')"
   ]
  },
  {
   "cell_type": "code",
   "execution_count": 39,
   "metadata": {},
   "outputs": [],
   "source": [
    "adults_sample_id=m3_adults.groupby('SUBJECT_ID').apply(lambda m3_adults : m3_adults.sample(1))\n",
    "adults_sample_id.head()"
   ]
  },
  {
   "cell_type": "code",
   "execution_count": 40,
   "metadata": {},
   "outputs": [],
   "source": [
    "adults_sample_id=adults_sample_id[['SUBJECT_ID']]\n",
    "adults_sample_id.set_index('SUBJECT_ID')"
   ]
  },
  {
   "cell_type": "code",
   "execution_count": 41,
   "metadata": {},
   "outputs": [],
   "source": [
    "adults_id_list=adults_sample_id['SUBJECT_ID'].values.tolist()\n",
    "adults_id_list"
   ]
  },
  {
   "cell_type": "code",
   "execution_count": 42,
   "metadata": {},
   "outputs": [],
   "source": [
    "sample_id_list=kids_id_list + adults_id_list\n",
    "sample_id_list"
   ]
  },
  {
   "cell_type": "code",
   "execution_count": 43,
   "metadata": {},
   "outputs": [],
   "source": [
    "def allUnique(x):\n",
    "    seen = set()\n",
    "    return not any(i in seen or seen.add(i) for i in x)"
   ]
  },
  {
   "cell_type": "code",
   "execution_count": 44,
   "metadata": {},
   "outputs": [],
   "source": [
    "allUnique(sample_id_list)"
   ]
  },
  {
   "cell_type": "code",
   "execution_count": 45,
   "metadata": {},
   "outputs": [],
   "source": [
    "allUnique(kids_id_list)"
   ]
  },
  {
   "cell_type": "code",
   "execution_count": 46,
   "metadata": {},
   "outputs": [],
   "source": [
    "allUnique(adults_id_list)"
   ]
  },
  {
   "cell_type": "code",
   "execution_count": 47,
   "metadata": {},
   "outputs": [],
   "source": [
    "set([x for x in sample_id_list if sample_id_list.count(x) > 1])"
   ]
  },
  {
   "cell_type": "markdown",
   "metadata": {},
   "source": [
    "It looks like the AGE variable is problematic. I will need to check this later. For now i will focus on a general sample of both kids and adults by directly sampling from the m3 dataset, instead of the sub kids and adults datasets."
   ]
  },
  {
   "cell_type": "code",
   "execution_count": 48,
   "metadata": {},
   "outputs": [
    {
     "data": {
      "text/html": [
       "<div>\n",
       "<style scoped>\n",
       "    .dataframe tbody tr th:only-of-type {\n",
       "        vertical-align: middle;\n",
       "    }\n",
       "\n",
       "    .dataframe tbody tr th {\n",
       "        vertical-align: top;\n",
       "    }\n",
       "\n",
       "    .dataframe thead th {\n",
       "        text-align: right;\n",
       "    }\n",
       "</style>\n",
       "<table border=\"1\" class=\"dataframe\">\n",
       "  <thead>\n",
       "    <tr style=\"text-align: right;\">\n",
       "      <th></th>\n",
       "      <th></th>\n",
       "      <th>SUBJECT_ID</th>\n",
       "    </tr>\n",
       "    <tr>\n",
       "      <th>SUBJECT_ID</th>\n",
       "      <th></th>\n",
       "      <th></th>\n",
       "    </tr>\n",
       "  </thead>\n",
       "  <tbody>\n",
       "    <tr>\n",
       "      <td>2973</td>\n",
       "      <td>48783</td>\n",
       "      <td>2973</td>\n",
       "    </tr>\n",
       "    <tr>\n",
       "      <td>63110</td>\n",
       "      <td>322505</td>\n",
       "      <td>63110</td>\n",
       "    </tr>\n",
       "    <tr>\n",
       "      <td>83724</td>\n",
       "      <td>386737</td>\n",
       "      <td>83724</td>\n",
       "    </tr>\n",
       "    <tr>\n",
       "      <td>73457</td>\n",
       "      <td>583262</td>\n",
       "      <td>73457</td>\n",
       "    </tr>\n",
       "    <tr>\n",
       "      <td>99374</td>\n",
       "      <td>579369</td>\n",
       "      <td>99374</td>\n",
       "    </tr>\n",
       "  </tbody>\n",
       "</table>\n",
       "</div>"
      ],
      "text/plain": [
       "                   SUBJECT_ID\n",
       "SUBJECT_ID                   \n",
       "2973       48783         2973\n",
       "63110      322505       63110\n",
       "83724      386737       83724\n",
       "73457      583262       73457\n",
       "99374      579369       99374"
      ]
     },
     "execution_count": 48,
     "metadata": {},
     "output_type": "execute_result"
    }
   ],
   "source": [
    "sample_id=m3.groupby('SUBJECT_ID').apply(lambda m3 : m3.sample(1))\n",
    "sample_id=sample_id[['SUBJECT_ID']].sample (n=5000, random_state=1)\n",
    "sample_id.head()"
   ]
  },
  {
   "cell_type": "code",
   "execution_count": 49,
   "metadata": {},
   "outputs": [
    {
     "data": {
      "text/html": [
       "<div>\n",
       "<style scoped>\n",
       "    .dataframe tbody tr th:only-of-type {\n",
       "        vertical-align: middle;\n",
       "    }\n",
       "\n",
       "    .dataframe tbody tr th {\n",
       "        vertical-align: top;\n",
       "    }\n",
       "\n",
       "    .dataframe thead th {\n",
       "        text-align: right;\n",
       "    }\n",
       "</style>\n",
       "<table border=\"1\" class=\"dataframe\">\n",
       "  <thead>\n",
       "    <tr style=\"text-align: right;\">\n",
       "      <th></th>\n",
       "    </tr>\n",
       "    <tr>\n",
       "      <th>SUBJECT_ID</th>\n",
       "    </tr>\n",
       "  </thead>\n",
       "  <tbody>\n",
       "    <tr>\n",
       "      <td>2973</td>\n",
       "    </tr>\n",
       "    <tr>\n",
       "      <td>63110</td>\n",
       "    </tr>\n",
       "    <tr>\n",
       "      <td>83724</td>\n",
       "    </tr>\n",
       "    <tr>\n",
       "      <td>73457</td>\n",
       "    </tr>\n",
       "    <tr>\n",
       "      <td>99374</td>\n",
       "    </tr>\n",
       "    <tr>\n",
       "      <td>...</td>\n",
       "    </tr>\n",
       "    <tr>\n",
       "      <td>2872</td>\n",
       "    </tr>\n",
       "    <tr>\n",
       "      <td>15430</td>\n",
       "    </tr>\n",
       "    <tr>\n",
       "      <td>10394</td>\n",
       "    </tr>\n",
       "    <tr>\n",
       "      <td>26928</td>\n",
       "    </tr>\n",
       "    <tr>\n",
       "      <td>4449</td>\n",
       "    </tr>\n",
       "  </tbody>\n",
       "</table>\n",
       "<p>5000 rows × 0 columns</p>\n",
       "</div>"
      ],
      "text/plain": [
       "Empty DataFrame\n",
       "Columns: []\n",
       "Index: [2973, 63110, 83724, 73457, 99374, 92644, 67256, 25477, 17768, 10750, 25444, 96331, 14314, 57910, 51820, 9334, 71808, 23581, 1756, 15483, 17869, 81187, 59201, 9043, 28650, 29316, 14172, 55276, 26379, 66508, 31285, 21813, 53347, 77471, 21014, 27129, 795, 7033, 89906, 61450, 26039, 11685, 49683, 51104, 23354, 51361, 23463, 5267, 10895, 48641, 27295, 78515, 55116, 96797, 23138, 18043, 23878, 91939, 23042, 55867, 5901, 5493, 51297, 12462, 17560, 30976, 72658, 49777, 95843, 10363, 98864, 2798, 8423, 24424, 6817, 50137, 30709, 65849, 12526, 45395, 1891, 27598, 897, 15651, 40602, 31792, 2159, 28108, 16097, 13218, 61673, 54681, 9933, 26263, 467, 71027, 28498, 27752, 9663, 17178, ...]\n",
       "\n",
       "[5000 rows x 0 columns]"
      ]
     },
     "execution_count": 49,
     "metadata": {},
     "output_type": "execute_result"
    }
   ],
   "source": [
    "sample_id.set_index('SUBJECT_ID')"
   ]
  },
  {
   "cell_type": "code",
   "execution_count": 4,
   "metadata": {},
   "outputs": [],
   "source": [
    "#id_list=sample_id['SUBJECT_ID'].values.tolist()\n",
    "#id_list"
   ]
  },
  {
   "cell_type": "code",
   "execution_count": 51,
   "metadata": {},
   "outputs": [
    {
     "data": {
      "text/plain": [
       "True"
      ]
     },
     "execution_count": 51,
     "metadata": {},
     "output_type": "execute_result"
    }
   ],
   "source": [
    "allUnique(id_list)"
   ]
  },
  {
   "cell_type": "code",
   "execution_count": 52,
   "metadata": {},
   "outputs": [],
   "source": [
    "icu_5k=m3[m3['SUBJECT_ID'].isin(id_list)]\n",
    "icu_5k.info()"
   ]
  },
  {
   "cell_type": "code",
   "execution_count": 53,
   "metadata": {},
   "outputs": [],
   "source": [
    "icu_5k.head()"
   ]
  },
  {
   "cell_type": "code",
   "execution_count": 54,
   "metadata": {},
   "outputs": [],
   "source": [
    "s=pd.read_csv(\"SERVICES.csv\", index_col=0)\n",
    "s.info()"
   ]
  },
  {
   "cell_type": "code",
   "execution_count": 55,
   "metadata": {},
   "outputs": [],
   "source": [
    "s = s[['SUBJECT_ID', 'HADM_ID', 'PREV_SERVICE', 'CURR_SERVICE']]\n",
    "s.head()"
   ]
  },
  {
   "cell_type": "code",
   "execution_count": 56,
   "metadata": {},
   "outputs": [],
   "source": [
    "s_5k=s[s['SUBJECT_ID'].isin(id_list)]\n",
    "s_5k.info()"
   ]
  },
  {
   "cell_type": "code",
   "execution_count": 57,
   "metadata": {},
   "outputs": [],
   "source": [
    "icu_stays=subjadm_merge(icu_5k, s_5k)\n",
    "icu_stays.info()"
   ]
  },
  {
   "cell_type": "code",
   "execution_count": 58,
   "metadata": {},
   "outputs": [],
   "source": [
    "icu_stays.to_csv('icu_stays_5k.csv')"
   ]
  },
  {
   "cell_type": "markdown",
   "metadata": {},
   "source": [
    "### Working Dataset 1: ICU Stays \n",
    "icu_stays dataframe or icu_stays_5k.CSV includes an ICU stays of randomly sampled 5000 patients and merged between the following tables:\n",
    "+ PATIENTS.csv\n",
    "+ ADMISSIONS.csv\n",
    "+ SERVICES.csv\n",
    "+ DIAGNOSES_ICD.csv\n",
    "+ D_ICD_DIAGNOSES.csv\n",
    "+ ICUSTAYS"
   ]
  },
  {
   "cell_type": "code",
   "execution_count": 59,
   "metadata": {},
   "outputs": [],
   "source": [
    "#merge laboratory results table with serv_5k. First lets merge between lab table and lab description table\n",
    "#chunks = []\n",
    "#c_size=10000000\n",
    "#for lab_chunk in pd.read_csv(\"LABEVENTS.csv\", index_col=0, chunksize=c_size):\n",
    "   # chunks.append(lab_chunk.query(\"ITEMID>0\").copy())\n",
    "#print(len(chunks))"
   ]
  },
  {
   "cell_type": "code",
   "execution_count": 60,
   "metadata": {},
   "outputs": [],
   "source": [
    "#lab_chunks=pd.concat(chunks)\n",
    "#lab_chunks.shape"
   ]
  },
  {
   "cell_type": "code",
   "execution_count": 61,
   "metadata": {},
   "outputs": [],
   "source": [
    "#lab_chunks.info()"
   ]
  },
  {
   "cell_type": "code",
   "execution_count": 62,
   "metadata": {},
   "outputs": [],
   "source": [
    "#d_lab=pd.read_csv(\"D_LABITEMS.csv\", index_col=0)\n",
    "#d_lab.info()"
   ]
  },
  {
   "cell_type": "code",
   "execution_count": 4,
   "metadata": {},
   "outputs": [],
   "source": [
    "def item_merge (table1, table2):\n",
    "    return table1.merge(table2, how='left', left_on=['ITEMID'], right_on=['ITEMID'])"
   ]
  },
  {
   "cell_type": "code",
   "execution_count": 64,
   "metadata": {},
   "outputs": [],
   "source": [
    "#labevents=item_merge(lab_chunks, d_lab)"
   ]
  },
  {
   "cell_type": "code",
   "execution_count": 65,
   "metadata": {},
   "outputs": [],
   "source": [
    "#labevents.info()"
   ]
  },
  {
   "cell_type": "code",
   "execution_count": 66,
   "metadata": {},
   "outputs": [],
   "source": [
    "#labevents_5k=labevents[labevents['SUBJECT_ID'].isin(id_list)]\n",
    "#labevents_5k.info()"
   ]
  },
  {
   "cell_type": "markdown",
   "metadata": {},
   "source": [
    "Out of the around 28million labratory events, we have got matched [with 5k subject sample] labratory events of 3.1million. "
   ]
  },
  {
   "cell_type": "code",
   "execution_count": 67,
   "metadata": {},
   "outputs": [],
   "source": [
    "labevents_5k.to_csv('labevents_5k.csv')"
   ]
  },
  {
   "cell_type": "code",
   "execution_count": null,
   "metadata": {},
   "outputs": [],
   "source": [
    "### Working Dataset 2: Laboratory Events \n",
    "\n",
    "labevetns_5k dataframe or labevents_5K.CSV includes a randomly selected 5000 patients laboratory events merged between the following tables:\n",
    "+ LABEVENTS.csv\n",
    "+ D_LABITEMS.csv"
   ]
  },
  {
   "cell_type": "code",
   "execution_count": 5,
   "metadata": {},
   "outputs": [
    {
     "name": "stderr",
     "output_type": "stream",
     "text": [
      "C:\\Users\\abebu\\Anaconda3\\lib\\site-packages\\numpy\\lib\\arraysetops.py:569: FutureWarning: elementwise comparison failed; returning scalar instead, but in the future will perform elementwise comparison\n",
      "  mask |= (ar1 == a)\n"
     ]
    },
    {
     "name": "stdout",
     "output_type": "stream",
     "text": [
      "Wall time: 23.3 s\n"
     ]
    }
   ],
   "source": [
    "%%time\n",
    "c1=pd.read_csv(\"CHARTEVENTS.csv\",index_col=0, nrows=20000000, dtype={'RESULTSTATUS': 'object',\n",
    "       'STOPPED': 'object',\n",
    "       'VALUE': 'object'})"
   ]
  },
  {
   "cell_type": "code",
   "execution_count": 19,
   "metadata": {},
   "outputs": [
    {
     "name": "stdout",
     "output_type": "stream",
     "text": [
      "Wall time: 28.6 s\n"
     ]
    }
   ],
   "source": [
    "%%time\n",
    "c2=pd.read_csv(\"CHARTEVENTS.csv\", names=cols, index_col=0, header=None, skiprows=20000000, nrows=20000000, dtype={'RESULTSTATUS': 'object',\n",
    "       'STOPPED': 'object',\n",
    "       'VALUE': 'object'})"
   ]
  },
  {
   "cell_type": "code",
   "execution_count": 24,
   "metadata": {},
   "outputs": [
    {
     "name": "stdout",
     "output_type": "stream",
     "text": [
      "Wall time: 32.8 s\n"
     ]
    }
   ],
   "source": [
    "%%time\n",
    "c3=pd.read_csv(\"CHARTEVENTS.csv\", names=cols, index_col=0, header=None, skiprows=40000000, nrows=20000000, dtype={'RESULTSTATUS': 'object',\n",
    "       'STOPPED': 'object',\n",
    "       'VALUE': 'object'})"
   ]
  },
  {
   "cell_type": "code",
   "execution_count": 29,
   "metadata": {},
   "outputs": [
    {
     "name": "stdout",
     "output_type": "stream",
     "text": [
      "Wall time: 1min 6s\n"
     ]
    }
   ],
   "source": [
    "%%time\n",
    "c4=pd.read_csv(\"CHARTEVENTS.csv\", names=cols, index_col=0, header=None, skiprows=60000000, nrows=40000000, dtype={'RESULTSTATUS': 'object',\n",
    "       'STOPPED': 'object',\n",
    "       'VALUE': 'object'})"
   ]
  },
  {
   "cell_type": "code",
   "execution_count": 34,
   "metadata": {},
   "outputs": [
    {
     "name": "stdout",
     "output_type": "stream",
     "text": [
      "Wall time: 1min 43s\n"
     ]
    }
   ],
   "source": [
    "%%time\n",
    "c5=pd.read_csv(\"CHARTEVENTS.csv\", names=cols, index_col=0, header=None, skiprows=100000000, nrows=50000000, dtype={'RESULTSTATUS': 'object',\n",
    "       'STOPPED': 'object',\n",
    "       'VALUE': 'object'})"
   ]
  },
  {
   "cell_type": "code",
   "execution_count": 39,
   "metadata": {},
   "outputs": [
    {
     "name": "stdout",
     "output_type": "stream",
     "text": [
      "Wall time: 1min 48s\n"
     ]
    }
   ],
   "source": [
    "%%time\n",
    "c6=pd.read_csv(\"CHARTEVENTS.csv\", names=cols, index_col=0, header=None, skiprows=150000000, nrows=50000000, dtype={'RESULTSTATUS': 'object',\n",
    "       'STOPPED': 'object',\n",
    "       'VALUE': 'object'})"
   ]
  },
  {
   "cell_type": "code",
   "execution_count": 74,
   "metadata": {},
   "outputs": [
    {
     "name": "stdout",
     "output_type": "stream",
     "text": [
      "Wall time: 5min 2s\n"
     ]
    }
   ],
   "source": [
    "%%time\n",
    "c7=pd.read_csv(\"CHARTEVENTS.csv\", index_col=0, names=cols, header=None, skiprows=200000000, nrows=50000000, dtype={'RESULTSTATUS': 'object',\n",
    "       'STOPPED': 'object',\n",
    "       'VALUE': 'object'})"
   ]
  },
  {
   "cell_type": "code",
   "execution_count": 85,
   "metadata": {},
   "outputs": [
    {
     "name": "stderr",
     "output_type": "stream",
     "text": [
      "<string>:2: DtypeWarning: Columns (10) have mixed types. Specify dtype option on import or set low_memory=False.\n"
     ]
    },
    {
     "name": "stdout",
     "output_type": "stream",
     "text": [
      "Wall time: 8min 10s\n"
     ]
    }
   ],
   "source": [
    "%%time\n",
    "c8=pd.read_csv(\"CHARTEVENTS.csv\", index_col=0, names=cols, header=None, skiprows=250000000, nrows=81000000, dtype={'RESULTSTATUS': 'object',\n",
    "       'STOPPED': 'object',\n",
    "       'VALUE': 'object'})"
   ]
  },
  {
   "cell_type": "code",
   "execution_count": 86,
   "metadata": {},
   "outputs": [
    {
     "data": {
      "text/plain": [
       "['SUBJECT_ID',\n",
       " 'HADM_ID',\n",
       " 'ICUSTAY_ID',\n",
       " 'ITEMID',\n",
       " 'CHARTTIME',\n",
       " 'STORETIME',\n",
       " 'CGID',\n",
       " 'VALUE',\n",
       " 'VALUENUM',\n",
       " 'VALUEUOM',\n",
       " 'WARNING',\n",
       " 'ERROR',\n",
       " 'RESULTSTATUS',\n",
       " 'STOPPED']"
      ]
     },
     "execution_count": 86,
     "metadata": {},
     "output_type": "execute_result"
    }
   ],
   "source": [
    "list(c1)"
   ]
  },
  {
   "cell_type": "code",
   "execution_count": 6,
   "metadata": {},
   "outputs": [],
   "source": [
    "cols= ['SUBJECT_ID',\n",
    " 'HADM_ID',\n",
    " 'ICUSTAY_ID',\n",
    " 'ITEMID',\n",
    " 'CHARTTIME',\n",
    " 'STORETIME',\n",
    " 'CGID',\n",
    " 'VALUE',\n",
    " 'VALUENUM',\n",
    " 'VALUEUOM',\n",
    " 'WARNING',\n",
    " 'ERROR',\n",
    " 'RESULTSTATUS',\n",
    " 'STOPPED']"
   ]
  },
  {
   "cell_type": "code",
   "execution_count": 17,
   "metadata": {},
   "outputs": [
    {
     "name": "stdout",
     "output_type": "stream",
     "text": [
      "<class 'pandas.core.frame.DataFrame'>\n",
      "Int64Index: 11163 entries, 0 to 11162\n",
      "Data columns (total 3 columns):\n",
      "SUBJECT_ID    11163 non-null int64\n",
      "HADM_ID       11163 non-null int64\n",
      "ICUSTAY_ID    11163 non-null float64\n",
      "dtypes: float64(1), int64(2)\n",
      "memory usage: 348.8 KB\n"
     ]
    }
   ],
   "source": [
    "ids=pd.read_csv('ids2.csv', header=0, index_col=0)\n",
    "ids.info()"
   ]
  },
  {
   "cell_type": "code",
   "execution_count": 76,
   "metadata": {},
   "outputs": [
    {
     "data": {
      "text/plain": [
       "(50000000, 14)"
      ]
     },
     "execution_count": 76,
     "metadata": {},
     "output_type": "execute_result"
    }
   ],
   "source": [
    "c7.shape"
   ]
  },
  {
   "cell_type": "code",
   "execution_count": 8,
   "metadata": {},
   "outputs": [],
   "source": [
    "c1 = c1.merge(ids, how='inner', left_on= ['SUBJECT_ID', 'HADM_ID', 'ICUSTAY_ID'], right_on= ['SUBJECT_ID', 'HADM_ID', 'ICUSTAY_ID'])"
   ]
  },
  {
   "cell_type": "code",
   "execution_count": 20,
   "metadata": {},
   "outputs": [],
   "source": [
    "c2 = c2.merge(ids, how='inner', left_on= ['SUBJECT_ID', 'HADM_ID', 'ICUSTAY_ID'], right_on= ['SUBJECT_ID', 'HADM_ID', 'ICUSTAY_ID'])"
   ]
  },
  {
   "cell_type": "code",
   "execution_count": 25,
   "metadata": {},
   "outputs": [],
   "source": [
    "c3 = c3.merge(ids, how='inner', left_on= ['SUBJECT_ID', 'HADM_ID', 'ICUSTAY_ID'], right_on= ['SUBJECT_ID', 'HADM_ID', 'ICUSTAY_ID'])"
   ]
  },
  {
   "cell_type": "code",
   "execution_count": 30,
   "metadata": {},
   "outputs": [],
   "source": [
    "c4 = c4.merge(ids, how='inner', left_on= ['SUBJECT_ID', 'HADM_ID', 'ICUSTAY_ID'], right_on= ['SUBJECT_ID', 'HADM_ID', 'ICUSTAY_ID'])"
   ]
  },
  {
   "cell_type": "code",
   "execution_count": 35,
   "metadata": {},
   "outputs": [],
   "source": [
    "c5 = c5.merge(ids, how='inner', left_on= ['SUBJECT_ID', 'HADM_ID', 'ICUSTAY_ID'], right_on= ['SUBJECT_ID', 'HADM_ID', 'ICUSTAY_ID'])"
   ]
  },
  {
   "cell_type": "code",
   "execution_count": 40,
   "metadata": {},
   "outputs": [],
   "source": [
    "c6 = c6.merge(ids, how='inner', left_on= ['SUBJECT_ID', 'HADM_ID', 'ICUSTAY_ID'], right_on= ['SUBJECT_ID', 'HADM_ID', 'ICUSTAY_ID'])"
   ]
  },
  {
   "cell_type": "code",
   "execution_count": 77,
   "metadata": {},
   "outputs": [],
   "source": [
    "c7 = c7.merge(ids, how='inner', left_on= ['SUBJECT_ID', 'HADM_ID', 'ICUSTAY_ID'], right_on= ['SUBJECT_ID', 'HADM_ID', 'ICUSTAY_ID'])"
   ]
  },
  {
   "cell_type": "code",
   "execution_count": 87,
   "metadata": {},
   "outputs": [],
   "source": [
    "c8 = c8.merge(ids, how='inner', left_on= ['SUBJECT_ID', 'HADM_ID', 'ICUSTAY_ID'], right_on= ['SUBJECT_ID', 'HADM_ID', 'ICUSTAY_ID'])"
   ]
  },
  {
   "cell_type": "code",
   "execution_count": 88,
   "metadata": {},
   "outputs": [
    {
     "data": {
      "text/plain": [
       "(29428250, 14)"
      ]
     },
     "execution_count": 88,
     "metadata": {},
     "output_type": "execute_result"
    }
   ],
   "source": [
    "c8.shape"
   ]
  },
  {
   "cell_type": "code",
   "execution_count": 9,
   "metadata": {},
   "outputs": [
    {
     "name": "stdout",
     "output_type": "stream",
     "text": [
      "<class 'pandas.core.frame.DataFrame'>\n",
      "Int64Index: 12487 entries, 457 to 14522\n",
      "Data columns (total 3 columns):\n",
      "ITEMID      12487 non-null int64\n",
      "LABEL       12483 non-null object\n",
      "CATEGORY    6049 non-null object\n",
      "dtypes: int64(1), object(2)\n",
      "memory usage: 390.2+ KB\n"
     ]
    }
   ],
   "source": [
    "d_c=pd.read_csv('D_ITEMS.csv', header=0, index_col=0) \n",
    "d_c=d_c[['ITEMID', 'LABEL', 'CATEGORY']]\n",
    "d_c.info()"
   ]
  },
  {
   "cell_type": "code",
   "execution_count": 10,
   "metadata": {},
   "outputs": [],
   "source": [
    "c1=item_merge(c1, d_c)"
   ]
  },
  {
   "cell_type": "code",
   "execution_count": 21,
   "metadata": {},
   "outputs": [],
   "source": [
    "c2=item_merge(c2, d_c)"
   ]
  },
  {
   "cell_type": "code",
   "execution_count": 26,
   "metadata": {},
   "outputs": [],
   "source": [
    "c3=item_merge(c3, d_c)"
   ]
  },
  {
   "cell_type": "code",
   "execution_count": 31,
   "metadata": {},
   "outputs": [],
   "source": [
    "c4=item_merge(c4, d_c)"
   ]
  },
  {
   "cell_type": "code",
   "execution_count": 36,
   "metadata": {},
   "outputs": [],
   "source": [
    "c5=item_merge(c5, d_c)"
   ]
  },
  {
   "cell_type": "code",
   "execution_count": 41,
   "metadata": {},
   "outputs": [],
   "source": [
    "c6=item_merge(c6, d_c)"
   ]
  },
  {
   "cell_type": "code",
   "execution_count": 79,
   "metadata": {},
   "outputs": [],
   "source": [
    "c7=item_merge(c7, d_c)"
   ]
  },
  {
   "cell_type": "code",
   "execution_count": 89,
   "metadata": {},
   "outputs": [],
   "source": [
    "c8=item_merge(c8, d_c)"
   ]
  },
  {
   "cell_type": "code",
   "execution_count": 90,
   "metadata": {},
   "outputs": [
    {
     "data": {
      "text/plain": [
       "(29428250, 16)"
      ]
     },
     "execution_count": 90,
     "metadata": {},
     "output_type": "execute_result"
    }
   ],
   "source": [
    "c8.shape"
   ]
  },
  {
   "cell_type": "code",
   "execution_count": 81,
   "metadata": {},
   "outputs": [
    {
     "data": {
      "text/plain": [
       "['SUBJECT_ID',\n",
       " 'HADM_ID',\n",
       " 'ICUSTAY_ID',\n",
       " 'ITEMID',\n",
       " 'CHARTTIME',\n",
       " 'STORETIME',\n",
       " 'CGID',\n",
       " 'VALUE',\n",
       " 'VALUENUM',\n",
       " 'VALUEUOM',\n",
       " 'WARNING',\n",
       " 'ERROR',\n",
       " 'RESULTSTATUS',\n",
       " 'STOPPED',\n",
       " 'LABEL',\n",
       " 'CATEGORY']"
      ]
     },
     "execution_count": 81,
     "metadata": {},
     "output_type": "execute_result"
    }
   ],
   "source": [
    "list(c7)"
   ]
  },
  {
   "cell_type": "code",
   "execution_count": 11,
   "metadata": {},
   "outputs": [],
   "source": [
    "labels = ['Arterial Blood Pressure diastolic', \n",
    "'Arterial Blood Pressure systolic', \n",
    "'Arterial Blood Pressure mean', \n",
    "'ART BP Diastolic', \n",
    "'ART BP Systolic', \n",
    "'ART BP mean',\n",
    "'Non Invasive Blood Pressure diastolic', \n",
    "'Non Invasive Blood Pressure systolic', \n",
    "'Non Invasive Blood Pressure mean', \n",
    "'Admission Weight (Kg)',\n",
    "'Admission Weight (lbs.)',\n",
    "'Anion gap',\n",
    "'Arterial O2 Saturation',\n",
    "'BUN',\n",
    "'Heart Rate',\n",
    "'Height',\n",
    "'Height (cm)',\n",
    "'Hemoglobin',\n",
    "'O2 saturation pulseoxymetry',\n",
    "'Platelet Count',\n",
    "'Potassium (serum)',\n",
    "'Respiratory Rate',\n",
    "'Temperature Celsius',\n",
    "'Temperature Fahrenheit',\n",
    "'WBC',\n",
    "'Daily Weight']"
   ]
  },
  {
   "cell_type": "code",
   "execution_count": 12,
   "metadata": {},
   "outputs": [],
   "source": [
    "c1=c1[c1['LABEL'].isin(labels)]"
   ]
  },
  {
   "cell_type": "code",
   "execution_count": 22,
   "metadata": {},
   "outputs": [],
   "source": [
    "c2=c2[c2['LABEL'].isin(labels)]"
   ]
  },
  {
   "cell_type": "code",
   "execution_count": 27,
   "metadata": {},
   "outputs": [],
   "source": [
    "c3=c3[c3['LABEL'].isin(labels)]"
   ]
  },
  {
   "cell_type": "code",
   "execution_count": 32,
   "metadata": {},
   "outputs": [],
   "source": [
    "c4=c4[c4['LABEL'].isin(labels)]"
   ]
  },
  {
   "cell_type": "code",
   "execution_count": 37,
   "metadata": {},
   "outputs": [],
   "source": [
    "c5=c5[c5['LABEL'].isin(labels)]"
   ]
  },
  {
   "cell_type": "code",
   "execution_count": 42,
   "metadata": {},
   "outputs": [],
   "source": [
    "c6=c6[c6['LABEL'].isin(labels)]"
   ]
  },
  {
   "cell_type": "code",
   "execution_count": 82,
   "metadata": {},
   "outputs": [],
   "source": [
    "c7=c7[c7['LABEL'].isin(labels)]"
   ]
  },
  {
   "cell_type": "code",
   "execution_count": 91,
   "metadata": {},
   "outputs": [],
   "source": [
    "c8=c8[c8['LABEL'].isin(labels)]"
   ]
  },
  {
   "cell_type": "code",
   "execution_count": 13,
   "metadata": {},
   "outputs": [
    {
     "data": {
      "text/plain": [
       "(5419480, 16)"
      ]
     },
     "execution_count": 13,
     "metadata": {},
     "output_type": "execute_result"
    }
   ],
   "source": [
    "c1.shape"
   ]
  },
  {
   "cell_type": "code",
   "execution_count": 14,
   "metadata": {},
   "outputs": [
    {
     "data": {
      "text/plain": [
       "(647323, 16)"
      ]
     },
     "execution_count": 14,
     "metadata": {},
     "output_type": "execute_result"
    }
   ],
   "source": [
    "c2.shape"
   ]
  },
  {
   "cell_type": "code",
   "execution_count": 26,
   "metadata": {},
   "outputs": [
    {
     "data": {
      "text/plain": [
       "(101173, 16)"
      ]
     },
     "execution_count": 26,
     "metadata": {},
     "output_type": "execute_result"
    }
   ],
   "source": [
    "c3.shape"
   ]
  },
  {
   "cell_type": "code",
   "execution_count": 40,
   "metadata": {},
   "outputs": [
    {
     "data": {
      "text/plain": [
       "(242444, 16)"
      ]
     },
     "execution_count": 40,
     "metadata": {},
     "output_type": "execute_result"
    }
   ],
   "source": [
    "c4.shape"
   ]
  },
  {
   "cell_type": "code",
   "execution_count": 52,
   "metadata": {},
   "outputs": [
    {
     "data": {
      "text/plain": [
       "(264272, 16)"
      ]
     },
     "execution_count": 52,
     "metadata": {},
     "output_type": "execute_result"
    }
   ],
   "source": [
    "c5.shape"
   ]
  },
  {
   "cell_type": "code",
   "execution_count": 63,
   "metadata": {},
   "outputs": [
    {
     "data": {
      "text/plain": [
       "(225702, 16)"
      ]
     },
     "execution_count": 63,
     "metadata": {},
     "output_type": "execute_result"
    }
   ],
   "source": [
    "c6.shape"
   ]
  },
  {
   "cell_type": "code",
   "execution_count": 83,
   "metadata": {},
   "outputs": [
    {
     "data": {
      "text/plain": [
       "(0, 16)"
      ]
     },
     "execution_count": 83,
     "metadata": {},
     "output_type": "execute_result"
    }
   ],
   "source": [
    "c7.shape"
   ]
  },
  {
   "cell_type": "code",
   "execution_count": 92,
   "metadata": {},
   "outputs": [
    {
     "data": {
      "text/plain": [
       "(0, 16)"
      ]
     },
     "execution_count": 92,
     "metadata": {},
     "output_type": "execute_result"
    }
   ],
   "source": [
    "c8.shape"
   ]
  },
  {
   "cell_type": "code",
   "execution_count": 41,
   "metadata": {},
   "outputs": [
    {
     "data": {
      "text/html": [
       "<div>\n",
       "<style scoped>\n",
       "    .dataframe tbody tr th:only-of-type {\n",
       "        vertical-align: middle;\n",
       "    }\n",
       "\n",
       "    .dataframe tbody tr th {\n",
       "        vertical-align: top;\n",
       "    }\n",
       "\n",
       "    .dataframe thead th {\n",
       "        text-align: right;\n",
       "    }\n",
       "</style>\n",
       "<table border=\"1\" class=\"dataframe\">\n",
       "  <thead>\n",
       "    <tr style=\"text-align: right;\">\n",
       "      <th></th>\n",
       "      <th>SUBJECT_ID</th>\n",
       "      <th>HADM_ID</th>\n",
       "      <th>ICUSTAY_ID</th>\n",
       "      <th>ITEMID</th>\n",
       "      <th>CHARTTIME</th>\n",
       "      <th>STORETIME</th>\n",
       "      <th>CGID</th>\n",
       "      <th>VALUE</th>\n",
       "      <th>VALUENUM</th>\n",
       "      <th>VALUEUOM</th>\n",
       "      <th>WARNING</th>\n",
       "      <th>ERROR</th>\n",
       "      <th>RESULTSTATUS</th>\n",
       "      <th>STOPPED</th>\n",
       "      <th>LABEL</th>\n",
       "      <th>CATEGORY</th>\n",
       "    </tr>\n",
       "  </thead>\n",
       "  <tbody>\n",
       "    <tr>\n",
       "      <td>0</td>\n",
       "      <td>4908</td>\n",
       "      <td>106923</td>\n",
       "      <td>294026.0</td>\n",
       "      <td>618</td>\n",
       "      <td>2136-07-31 21:00:00</td>\n",
       "      <td>2136-07-31 21:06:00</td>\n",
       "      <td>21205</td>\n",
       "      <td>16</td>\n",
       "      <td>16.0</td>\n",
       "      <td>BPM</td>\n",
       "      <td>NaN</td>\n",
       "      <td>NaN</td>\n",
       "      <td>NaN</td>\n",
       "      <td>NotStopd</td>\n",
       "      <td>Respiratory Rate</td>\n",
       "      <td>NaN</td>\n",
       "    </tr>\n",
       "    <tr>\n",
       "      <td>31</td>\n",
       "      <td>4908</td>\n",
       "      <td>106923</td>\n",
       "      <td>294026.0</td>\n",
       "      <td>211</td>\n",
       "      <td>2136-07-31 22:00:00</td>\n",
       "      <td>2136-07-31 23:20:00</td>\n",
       "      <td>21205</td>\n",
       "      <td>86</td>\n",
       "      <td>86.0</td>\n",
       "      <td>BPM</td>\n",
       "      <td>NaN</td>\n",
       "      <td>NaN</td>\n",
       "      <td>NaN</td>\n",
       "      <td>NotStopd</td>\n",
       "      <td>Heart Rate</td>\n",
       "      <td>NaN</td>\n",
       "    </tr>\n",
       "    <tr>\n",
       "      <td>54</td>\n",
       "      <td>4908</td>\n",
       "      <td>106923</td>\n",
       "      <td>294026.0</td>\n",
       "      <td>618</td>\n",
       "      <td>2136-07-31 22:00:00</td>\n",
       "      <td>2136-07-31 23:20:00</td>\n",
       "      <td>21205</td>\n",
       "      <td>15</td>\n",
       "      <td>15.0</td>\n",
       "      <td>BPM</td>\n",
       "      <td>NaN</td>\n",
       "      <td>NaN</td>\n",
       "      <td>NaN</td>\n",
       "      <td>NotStopd</td>\n",
       "      <td>Respiratory Rate</td>\n",
       "      <td>NaN</td>\n",
       "    </tr>\n",
       "    <tr>\n",
       "      <td>82</td>\n",
       "      <td>4908</td>\n",
       "      <td>106923</td>\n",
       "      <td>294026.0</td>\n",
       "      <td>211</td>\n",
       "      <td>2136-08-01 05:00:00</td>\n",
       "      <td>2136-08-01 05:17:00</td>\n",
       "      <td>21205</td>\n",
       "      <td>84</td>\n",
       "      <td>84.0</td>\n",
       "      <td>BPM</td>\n",
       "      <td>NaN</td>\n",
       "      <td>NaN</td>\n",
       "      <td>NaN</td>\n",
       "      <td>NotStopd</td>\n",
       "      <td>Heart Rate</td>\n",
       "      <td>NaN</td>\n",
       "    </tr>\n",
       "    <tr>\n",
       "      <td>96</td>\n",
       "      <td>4908</td>\n",
       "      <td>106923</td>\n",
       "      <td>294026.0</td>\n",
       "      <td>618</td>\n",
       "      <td>2136-08-01 05:00:00</td>\n",
       "      <td>2136-08-01 05:17:00</td>\n",
       "      <td>21205</td>\n",
       "      <td>16</td>\n",
       "      <td>16.0</td>\n",
       "      <td>BPM</td>\n",
       "      <td>NaN</td>\n",
       "      <td>NaN</td>\n",
       "      <td>NaN</td>\n",
       "      <td>NotStopd</td>\n",
       "      <td>Respiratory Rate</td>\n",
       "      <td>NaN</td>\n",
       "    </tr>\n",
       "  </tbody>\n",
       "</table>\n",
       "</div>"
      ],
      "text/plain": [
       "    SUBJECT_ID  HADM_ID  ICUSTAY_ID  ITEMID            CHARTTIME  \\\n",
       "0         4908   106923    294026.0     618  2136-07-31 21:00:00   \n",
       "31        4908   106923    294026.0     211  2136-07-31 22:00:00   \n",
       "54        4908   106923    294026.0     618  2136-07-31 22:00:00   \n",
       "82        4908   106923    294026.0     211  2136-08-01 05:00:00   \n",
       "96        4908   106923    294026.0     618  2136-08-01 05:00:00   \n",
       "\n",
       "              STORETIME   CGID VALUE  VALUENUM VALUEUOM  WARNING  ERROR  \\\n",
       "0   2136-07-31 21:06:00  21205    16      16.0      BPM      NaN    NaN   \n",
       "31  2136-07-31 23:20:00  21205    86      86.0      BPM      NaN    NaN   \n",
       "54  2136-07-31 23:20:00  21205    15      15.0      BPM      NaN    NaN   \n",
       "82  2136-08-01 05:17:00  21205    84      84.0      BPM      NaN    NaN   \n",
       "96  2136-08-01 05:17:00  21205    16      16.0      BPM      NaN    NaN   \n",
       "\n",
       "   RESULTSTATUS   STOPPED             LABEL CATEGORY  \n",
       "0           NaN  NotStopd  Respiratory Rate      NaN  \n",
       "31          NaN  NotStopd        Heart Rate      NaN  \n",
       "54          NaN  NotStopd  Respiratory Rate      NaN  \n",
       "82          NaN  NotStopd        Heart Rate      NaN  \n",
       "96          NaN  NotStopd  Respiratory Rate      NaN  "
      ]
     },
     "execution_count": 41,
     "metadata": {},
     "output_type": "execute_result"
    }
   ],
   "source": [
    "c4.head()"
   ]
  },
  {
   "cell_type": "code",
   "execution_count": 14,
   "metadata": {},
   "outputs": [],
   "source": [
    "c1=c1[['SUBJECT_ID', 'HADM_ID', 'ICUSTAY_ID', 'ITEMID', 'CHARTTIME', 'VALUENUM', 'VALUEUOM', 'LABEL', 'CATEGORY']]"
   ]
  },
  {
   "cell_type": "code",
   "execution_count": 23,
   "metadata": {},
   "outputs": [],
   "source": [
    "c2=c2[['SUBJECT_ID', 'HADM_ID', 'ICUSTAY_ID', 'ITEMID', 'CHARTTIME', 'VALUENUM', 'VALUEUOM', 'LABEL', 'CATEGORY']]"
   ]
  },
  {
   "cell_type": "code",
   "execution_count": 28,
   "metadata": {},
   "outputs": [],
   "source": [
    "c3=c3[['SUBJECT_ID', 'HADM_ID', 'ICUSTAY_ID', 'ITEMID', 'CHARTTIME', 'VALUENUM', 'VALUEUOM', 'LABEL', 'CATEGORY']]"
   ]
  },
  {
   "cell_type": "code",
   "execution_count": 33,
   "metadata": {},
   "outputs": [],
   "source": [
    "c4=c4[['SUBJECT_ID', 'HADM_ID', 'ICUSTAY_ID', 'ITEMID', 'CHARTTIME', 'VALUENUM', 'VALUEUOM', 'LABEL', 'CATEGORY']]"
   ]
  },
  {
   "cell_type": "code",
   "execution_count": 38,
   "metadata": {},
   "outputs": [],
   "source": [
    "c5=c5[['SUBJECT_ID', 'HADM_ID', 'ICUSTAY_ID', 'ITEMID', 'CHARTTIME', 'VALUENUM', 'VALUEUOM', 'LABEL', 'CATEGORY']]"
   ]
  },
  {
   "cell_type": "code",
   "execution_count": 43,
   "metadata": {},
   "outputs": [],
   "source": [
    "c6=c6[['SUBJECT_ID', 'HADM_ID', 'ICUSTAY_ID', 'ITEMID', 'CHARTTIME', 'VALUENUM', 'VALUEUOM', 'LABEL', 'CATEGORY']]"
   ]
  },
  {
   "cell_type": "code",
   "execution_count": 65,
   "metadata": {},
   "outputs": [
    {
     "data": {
      "text/html": [
       "<div>\n",
       "<style scoped>\n",
       "    .dataframe tbody tr th:only-of-type {\n",
       "        vertical-align: middle;\n",
       "    }\n",
       "\n",
       "    .dataframe tbody tr th {\n",
       "        vertical-align: top;\n",
       "    }\n",
       "\n",
       "    .dataframe thead th {\n",
       "        text-align: right;\n",
       "    }\n",
       "</style>\n",
       "<table border=\"1\" class=\"dataframe\">\n",
       "  <thead>\n",
       "    <tr style=\"text-align: right;\">\n",
       "      <th></th>\n",
       "      <th>SUBJECT_ID</th>\n",
       "      <th>HADM_ID</th>\n",
       "      <th>ICUSTAY_ID</th>\n",
       "      <th>ITEMID</th>\n",
       "      <th>CHARTTIME</th>\n",
       "      <th>VALUENUM</th>\n",
       "      <th>VALUEUOM</th>\n",
       "      <th>LABEL</th>\n",
       "      <th>CATEGORY</th>\n",
       "    </tr>\n",
       "  </thead>\n",
       "  <tbody>\n",
       "    <tr>\n",
       "      <td>2</td>\n",
       "      <td>22930</td>\n",
       "      <td>121115</td>\n",
       "      <td>236659.0</td>\n",
       "      <td>618</td>\n",
       "      <td>2187-11-18 14:00:00</td>\n",
       "      <td>13.0</td>\n",
       "      <td>BPM</td>\n",
       "      <td>Respiratory Rate</td>\n",
       "      <td>NaN</td>\n",
       "    </tr>\n",
       "    <tr>\n",
       "      <td>27</td>\n",
       "      <td>22930</td>\n",
       "      <td>121115</td>\n",
       "      <td>236659.0</td>\n",
       "      <td>211</td>\n",
       "      <td>2187-11-16 23:00:00</td>\n",
       "      <td>84.0</td>\n",
       "      <td>BPM</td>\n",
       "      <td>Heart Rate</td>\n",
       "      <td>NaN</td>\n",
       "    </tr>\n",
       "    <tr>\n",
       "      <td>45</td>\n",
       "      <td>22930</td>\n",
       "      <td>121115</td>\n",
       "      <td>236659.0</td>\n",
       "      <td>618</td>\n",
       "      <td>2187-11-16 23:00:00</td>\n",
       "      <td>19.0</td>\n",
       "      <td>BPM</td>\n",
       "      <td>Respiratory Rate</td>\n",
       "      <td>NaN</td>\n",
       "    </tr>\n",
       "    <tr>\n",
       "      <td>63</td>\n",
       "      <td>22930</td>\n",
       "      <td>121115</td>\n",
       "      <td>236659.0</td>\n",
       "      <td>211</td>\n",
       "      <td>2187-11-17 00:00:00</td>\n",
       "      <td>75.0</td>\n",
       "      <td>BPM</td>\n",
       "      <td>Heart Rate</td>\n",
       "      <td>NaN</td>\n",
       "    </tr>\n",
       "    <tr>\n",
       "      <td>68</td>\n",
       "      <td>22930</td>\n",
       "      <td>121115</td>\n",
       "      <td>236659.0</td>\n",
       "      <td>618</td>\n",
       "      <td>2187-11-17 00:00:00</td>\n",
       "      <td>13.0</td>\n",
       "      <td>BPM</td>\n",
       "      <td>Respiratory Rate</td>\n",
       "      <td>NaN</td>\n",
       "    </tr>\n",
       "    <tr>\n",
       "      <td>...</td>\n",
       "      <td>...</td>\n",
       "      <td>...</td>\n",
       "      <td>...</td>\n",
       "      <td>...</td>\n",
       "      <td>...</td>\n",
       "      <td>...</td>\n",
       "      <td>...</td>\n",
       "      <td>...</td>\n",
       "      <td>...</td>\n",
       "    </tr>\n",
       "    <tr>\n",
       "      <td>4100111</td>\n",
       "      <td>32781</td>\n",
       "      <td>142684</td>\n",
       "      <td>294872.0</td>\n",
       "      <td>618</td>\n",
       "      <td>2134-09-27 08:00:00</td>\n",
       "      <td>24.0</td>\n",
       "      <td>BPM</td>\n",
       "      <td>Respiratory Rate</td>\n",
       "      <td>NaN</td>\n",
       "    </tr>\n",
       "    <tr>\n",
       "      <td>4100155</td>\n",
       "      <td>32781</td>\n",
       "      <td>142684</td>\n",
       "      <td>294872.0</td>\n",
       "      <td>211</td>\n",
       "      <td>2134-09-26 11:00:00</td>\n",
       "      <td>90.0</td>\n",
       "      <td>BPM</td>\n",
       "      <td>Heart Rate</td>\n",
       "      <td>NaN</td>\n",
       "    </tr>\n",
       "    <tr>\n",
       "      <td>4100192</td>\n",
       "      <td>32781</td>\n",
       "      <td>142684</td>\n",
       "      <td>294872.0</td>\n",
       "      <td>211</td>\n",
       "      <td>2134-09-26 20:00:00</td>\n",
       "      <td>79.0</td>\n",
       "      <td>BPM</td>\n",
       "      <td>Heart Rate</td>\n",
       "      <td>NaN</td>\n",
       "    </tr>\n",
       "    <tr>\n",
       "      <td>4100208</td>\n",
       "      <td>32781</td>\n",
       "      <td>142684</td>\n",
       "      <td>294872.0</td>\n",
       "      <td>618</td>\n",
       "      <td>2134-09-26 20:00:00</td>\n",
       "      <td>22.0</td>\n",
       "      <td>BPM</td>\n",
       "      <td>Respiratory Rate</td>\n",
       "      <td>NaN</td>\n",
       "    </tr>\n",
       "    <tr>\n",
       "      <td>4100229</td>\n",
       "      <td>32781</td>\n",
       "      <td>142684</td>\n",
       "      <td>294872.0</td>\n",
       "      <td>211</td>\n",
       "      <td>2134-09-26 21:00:00</td>\n",
       "      <td>76.0</td>\n",
       "      <td>BPM</td>\n",
       "      <td>Heart Rate</td>\n",
       "      <td>NaN</td>\n",
       "    </tr>\n",
       "  </tbody>\n",
       "</table>\n",
       "<p>225702 rows × 9 columns</p>\n",
       "</div>"
      ],
      "text/plain": [
       "         SUBJECT_ID  HADM_ID  ICUSTAY_ID  ITEMID            CHARTTIME  \\\n",
       "2             22930   121115    236659.0     618  2187-11-18 14:00:00   \n",
       "27            22930   121115    236659.0     211  2187-11-16 23:00:00   \n",
       "45            22930   121115    236659.0     618  2187-11-16 23:00:00   \n",
       "63            22930   121115    236659.0     211  2187-11-17 00:00:00   \n",
       "68            22930   121115    236659.0     618  2187-11-17 00:00:00   \n",
       "...             ...      ...         ...     ...                  ...   \n",
       "4100111       32781   142684    294872.0     618  2134-09-27 08:00:00   \n",
       "4100155       32781   142684    294872.0     211  2134-09-26 11:00:00   \n",
       "4100192       32781   142684    294872.0     211  2134-09-26 20:00:00   \n",
       "4100208       32781   142684    294872.0     618  2134-09-26 20:00:00   \n",
       "4100229       32781   142684    294872.0     211  2134-09-26 21:00:00   \n",
       "\n",
       "         VALUENUM VALUEUOM             LABEL CATEGORY  \n",
       "2            13.0      BPM  Respiratory Rate      NaN  \n",
       "27           84.0      BPM        Heart Rate      NaN  \n",
       "45           19.0      BPM  Respiratory Rate      NaN  \n",
       "63           75.0      BPM        Heart Rate      NaN  \n",
       "68           13.0      BPM  Respiratory Rate      NaN  \n",
       "...           ...      ...               ...      ...  \n",
       "4100111      24.0      BPM  Respiratory Rate      NaN  \n",
       "4100155      90.0      BPM        Heart Rate      NaN  \n",
       "4100192      79.0      BPM        Heart Rate      NaN  \n",
       "4100208      22.0      BPM  Respiratory Rate      NaN  \n",
       "4100229      76.0      BPM        Heart Rate      NaN  \n",
       "\n",
       "[225702 rows x 9 columns]"
      ]
     },
     "execution_count": 65,
     "metadata": {},
     "output_type": "execute_result"
    }
   ],
   "source": [
    "c6"
   ]
  },
  {
   "cell_type": "code",
   "execution_count": 19,
   "metadata": {},
   "outputs": [],
   "source": [
    "c1.to_csv('c1.csv')"
   ]
  },
  {
   "cell_type": "code",
   "execution_count": 18,
   "metadata": {},
   "outputs": [],
   "source": [
    "c2.to_csv('c2.csv')"
   ]
  },
  {
   "cell_type": "code",
   "execution_count": 29,
   "metadata": {},
   "outputs": [],
   "source": [
    "c3.to_csv('c3.csv')"
   ]
  },
  {
   "cell_type": "code",
   "execution_count": 44,
   "metadata": {},
   "outputs": [],
   "source": [
    "c4.to_csv('c4.csv')"
   ]
  },
  {
   "cell_type": "code",
   "execution_count": 55,
   "metadata": {},
   "outputs": [],
   "source": [
    "c5.to_csv('c5.csv')"
   ]
  },
  {
   "cell_type": "code",
   "execution_count": 66,
   "metadata": {},
   "outputs": [],
   "source": [
    "c6.to_csv('c6.csv')"
   ]
  },
  {
   "cell_type": "code",
   "execution_count": 54,
   "metadata": {},
   "outputs": [],
   "source": [
    "# Now that the final processed datasets are managable size, lets concat charts dataframes \n",
    "frames = [c1, c2, c3, c4, c5, c6]\n",
    "charts = pd.concat(frames, sort=False)"
   ]
  },
  {
   "cell_type": "code",
   "execution_count": 109,
   "metadata": {},
   "outputs": [],
   "source": [
    "charts.to_csv('c_c.csv')"
   ]
  },
  {
   "cell_type": "code",
   "execution_count": 44,
   "metadata": {},
   "outputs": [],
   "source": [
    "c1['LABEL'] = c1['LABEL'].astype('category')"
   ]
  },
  {
   "cell_type": "code",
   "execution_count": null,
   "metadata": {},
   "outputs": [],
   "source": [
    "c1['LABEL'].cat.set"
   ]
  },
  {
   "cell_type": "code",
   "execution_count": 45,
   "metadata": {},
   "outputs": [],
   "source": [
    "c2['LABEL'] = c2['LABEL'].astype('category')"
   ]
  },
  {
   "cell_type": "code",
   "execution_count": 46,
   "metadata": {},
   "outputs": [],
   "source": [
    "c3['LABEL'] = c3['LABEL'].astype('category')"
   ]
  },
  {
   "cell_type": "code",
   "execution_count": 47,
   "metadata": {},
   "outputs": [],
   "source": [
    "c4['LABEL'] = c4['LABEL'].astype('category')"
   ]
  },
  {
   "cell_type": "code",
   "execution_count": 48,
   "metadata": {},
   "outputs": [],
   "source": [
    "c5['LABEL'] = c5['LABEL'].astype('category')"
   ]
  },
  {
   "cell_type": "code",
   "execution_count": 49,
   "metadata": {},
   "outputs": [],
   "source": [
    "c6['LABEL'] = c6['LABEL'].astype('category')"
   ]
  },
  {
   "cell_type": "code",
   "execution_count": 1,
   "metadata": {},
   "outputs": [],
   "source": [
    "#Now lets reshpe the charts dfs using pivot table\n",
    "p1=c1.pivot_table(values='VALUENUM', index=['SUBJECT_ID', 'HADM_ID', 'ICUSTAY_ID', 'ITEMID','VALUEUOM'], columns='LABEL')\n",
    "# the drading memory error - i will continue to work without pivot table, using charts dataset."
   ]
  },
  {
   "cell_type": "markdown",
   "metadata": {},
   "source": [
    "### Working Dataset 3: Chart Events \n",
    "\n",
    "charts dataframe or c_c.CSV includes a randomly selected 5000 patients charts events merged between the following tables:\n",
    "+ CHARTEVENTS.csv\n",
    "+ D_ITEMS.csv\n",
    "\n",
    "5000 patients sums 6,003,394 chart events. "
   ]
  },
  {
   "cell_type": "code",
   "execution_count": 144,
   "metadata": {},
   "outputs": [
    {
     "name": "stdout",
     "output_type": "stream",
     "text": [
      "<class 'pandas.core.frame.DataFrame'>\n",
      "Int64Index: 631726 entries, 744 to 630935\n",
      "Data columns (total 10 columns):\n",
      "SUBJECT_ID        631726 non-null int64\n",
      "HADM_ID           631726 non-null int64\n",
      "SPEC_ITEMID       12487 non-null float64\n",
      "SPEC_TYPE_DESC    631726 non-null object\n",
      "ORG_ITEMID        12487 non-null float64\n",
      "ORG_NAME          328016 non-null object\n",
      "AB_ITEMID         12487 non-null float64\n",
      "AB_NAME           275834 non-null object\n",
      "DILUTION_VALUE    267178 non-null float64\n",
      "INTERPRETATION    275834 non-null object\n",
      "dtypes: float64(4), int64(2), object(4)\n",
      "memory usage: 53.0+ MB\n"
     ]
    }
   ],
   "source": [
    "micro=pd.read_csv('MICROBIOLOGYEVENTS.csv', header=0, index_col=0) \n",
    "micro=micro[['SUBJECT_ID', 'HADM_ID', 'SPEC_ITEMID', 'SPEC_TYPE_DESC', 'ORG_ITEMID', 'ORG_NAME', 'AB_ITEMID', 'AB_NAME', 'DILUTION_VALUE', 'INTERPRETATION']]\n",
    "micro.SPEC_ITEMID=d_c.ITEMID\n",
    "micro.ORG_ITEMID=d_c.ITEMID\n",
    "micro.AB_ITEMID=d_c.ITEMID\n",
    "micro.info()"
   ]
  },
  {
   "cell_type": "code",
   "execution_count": 145,
   "metadata": {},
   "outputs": [
    {
     "data": {
      "text/html": [
       "<div>\n",
       "<style scoped>\n",
       "    .dataframe tbody tr th:only-of-type {\n",
       "        vertical-align: middle;\n",
       "    }\n",
       "\n",
       "    .dataframe tbody tr th {\n",
       "        vertical-align: top;\n",
       "    }\n",
       "\n",
       "    .dataframe thead th {\n",
       "        text-align: right;\n",
       "    }\n",
       "</style>\n",
       "<table border=\"1\" class=\"dataframe\">\n",
       "  <thead>\n",
       "    <tr style=\"text-align: right;\">\n",
       "      <th></th>\n",
       "      <th>SUBJECT_ID</th>\n",
       "      <th>HADM_ID</th>\n",
       "      <th>SPEC_ITEMID</th>\n",
       "      <th>SPEC_TYPE_DESC</th>\n",
       "      <th>ORG_ITEMID</th>\n",
       "      <th>ORG_NAME</th>\n",
       "      <th>AB_ITEMID</th>\n",
       "      <th>AB_NAME</th>\n",
       "      <th>DILUTION_VALUE</th>\n",
       "      <th>INTERPRETATION</th>\n",
       "    </tr>\n",
       "    <tr>\n",
       "      <th>ROW_ID</th>\n",
       "      <th></th>\n",
       "      <th></th>\n",
       "      <th></th>\n",
       "      <th></th>\n",
       "      <th></th>\n",
       "      <th></th>\n",
       "      <th></th>\n",
       "      <th></th>\n",
       "      <th></th>\n",
       "      <th></th>\n",
       "    </tr>\n",
       "  </thead>\n",
       "  <tbody>\n",
       "    <tr>\n",
       "      <td>744</td>\n",
       "      <td>96</td>\n",
       "      <td>170324</td>\n",
       "      <td>825.0</td>\n",
       "      <td>BRONCHOALVEOLAR LAVAGE</td>\n",
       "      <td>825.0</td>\n",
       "      <td>PSEUDOMONAS AERUGINOSA</td>\n",
       "      <td>825.0</td>\n",
       "      <td>NaN</td>\n",
       "      <td>NaN</td>\n",
       "      <td>NaN</td>\n",
       "    </tr>\n",
       "    <tr>\n",
       "      <td>745</td>\n",
       "      <td>96</td>\n",
       "      <td>170324</td>\n",
       "      <td>826.0</td>\n",
       "      <td>SPUTUM</td>\n",
       "      <td>826.0</td>\n",
       "      <td>NaN</td>\n",
       "      <td>826.0</td>\n",
       "      <td>NaN</td>\n",
       "      <td>NaN</td>\n",
       "      <td>NaN</td>\n",
       "    </tr>\n",
       "    <tr>\n",
       "      <td>746</td>\n",
       "      <td>96</td>\n",
       "      <td>170324</td>\n",
       "      <td>827.0</td>\n",
       "      <td>BLOOD CULTURE</td>\n",
       "      <td>827.0</td>\n",
       "      <td>NaN</td>\n",
       "      <td>827.0</td>\n",
       "      <td>NaN</td>\n",
       "      <td>NaN</td>\n",
       "      <td>NaN</td>\n",
       "    </tr>\n",
       "    <tr>\n",
       "      <td>747</td>\n",
       "      <td>96</td>\n",
       "      <td>170324</td>\n",
       "      <td>828.0</td>\n",
       "      <td>BLOOD CULTURE</td>\n",
       "      <td>828.0</td>\n",
       "      <td>NaN</td>\n",
       "      <td>828.0</td>\n",
       "      <td>NaN</td>\n",
       "      <td>NaN</td>\n",
       "      <td>NaN</td>\n",
       "    </tr>\n",
       "    <tr>\n",
       "      <td>748</td>\n",
       "      <td>96</td>\n",
       "      <td>170324</td>\n",
       "      <td>829.0</td>\n",
       "      <td>URINE</td>\n",
       "      <td>829.0</td>\n",
       "      <td>NaN</td>\n",
       "      <td>829.0</td>\n",
       "      <td>NaN</td>\n",
       "      <td>NaN</td>\n",
       "      <td>NaN</td>\n",
       "    </tr>\n",
       "    <tr>\n",
       "      <td>...</td>\n",
       "      <td>...</td>\n",
       "      <td>...</td>\n",
       "      <td>...</td>\n",
       "      <td>...</td>\n",
       "      <td>...</td>\n",
       "      <td>...</td>\n",
       "      <td>...</td>\n",
       "      <td>...</td>\n",
       "      <td>...</td>\n",
       "      <td>...</td>\n",
       "    </tr>\n",
       "    <tr>\n",
       "      <td>630931</td>\n",
       "      <td>99783</td>\n",
       "      <td>126090</td>\n",
       "      <td>NaN</td>\n",
       "      <td>TISSUE</td>\n",
       "      <td>NaN</td>\n",
       "      <td>ASPERGILLUS FUMIGATUS</td>\n",
       "      <td>NaN</td>\n",
       "      <td>NaN</td>\n",
       "      <td>NaN</td>\n",
       "      <td>NaN</td>\n",
       "    </tr>\n",
       "    <tr>\n",
       "      <td>630932</td>\n",
       "      <td>99783</td>\n",
       "      <td>126090</td>\n",
       "      <td>NaN</td>\n",
       "      <td>TISSUE</td>\n",
       "      <td>NaN</td>\n",
       "      <td>ASPERGILLUS FUMIGATUS</td>\n",
       "      <td>NaN</td>\n",
       "      <td>NaN</td>\n",
       "      <td>NaN</td>\n",
       "      <td>NaN</td>\n",
       "    </tr>\n",
       "    <tr>\n",
       "      <td>630933</td>\n",
       "      <td>99783</td>\n",
       "      <td>126090</td>\n",
       "      <td>NaN</td>\n",
       "      <td>TISSUE</td>\n",
       "      <td>NaN</td>\n",
       "      <td>ASPERGILLUS FUMIGATUS</td>\n",
       "      <td>NaN</td>\n",
       "      <td>NaN</td>\n",
       "      <td>NaN</td>\n",
       "      <td>NaN</td>\n",
       "    </tr>\n",
       "    <tr>\n",
       "      <td>630934</td>\n",
       "      <td>99783</td>\n",
       "      <td>126090</td>\n",
       "      <td>NaN</td>\n",
       "      <td>BLOOD CULTURE</td>\n",
       "      <td>NaN</td>\n",
       "      <td>NaN</td>\n",
       "      <td>NaN</td>\n",
       "      <td>NaN</td>\n",
       "      <td>NaN</td>\n",
       "      <td>NaN</td>\n",
       "    </tr>\n",
       "    <tr>\n",
       "      <td>630935</td>\n",
       "      <td>99783</td>\n",
       "      <td>126090</td>\n",
       "      <td>NaN</td>\n",
       "      <td>BLOOD CULTURE</td>\n",
       "      <td>NaN</td>\n",
       "      <td>NaN</td>\n",
       "      <td>NaN</td>\n",
       "      <td>NaN</td>\n",
       "      <td>NaN</td>\n",
       "      <td>NaN</td>\n",
       "    </tr>\n",
       "  </tbody>\n",
       "</table>\n",
       "<p>631726 rows × 10 columns</p>\n",
       "</div>"
      ],
      "text/plain": [
       "        SUBJECT_ID  HADM_ID  SPEC_ITEMID          SPEC_TYPE_DESC  ORG_ITEMID  \\\n",
       "ROW_ID                                                                         \n",
       "744             96   170324        825.0  BRONCHOALVEOLAR LAVAGE       825.0   \n",
       "745             96   170324        826.0                  SPUTUM       826.0   \n",
       "746             96   170324        827.0           BLOOD CULTURE       827.0   \n",
       "747             96   170324        828.0           BLOOD CULTURE       828.0   \n",
       "748             96   170324        829.0                   URINE       829.0   \n",
       "...            ...      ...          ...                     ...         ...   \n",
       "630931       99783   126090          NaN                  TISSUE         NaN   \n",
       "630932       99783   126090          NaN                  TISSUE         NaN   \n",
       "630933       99783   126090          NaN                  TISSUE         NaN   \n",
       "630934       99783   126090          NaN           BLOOD CULTURE         NaN   \n",
       "630935       99783   126090          NaN           BLOOD CULTURE         NaN   \n",
       "\n",
       "                      ORG_NAME  AB_ITEMID AB_NAME  DILUTION_VALUE  \\\n",
       "ROW_ID                                                              \n",
       "744     PSEUDOMONAS AERUGINOSA      825.0     NaN             NaN   \n",
       "745                        NaN      826.0     NaN             NaN   \n",
       "746                        NaN      827.0     NaN             NaN   \n",
       "747                        NaN      828.0     NaN             NaN   \n",
       "748                        NaN      829.0     NaN             NaN   \n",
       "...                        ...        ...     ...             ...   \n",
       "630931   ASPERGILLUS FUMIGATUS        NaN     NaN             NaN   \n",
       "630932   ASPERGILLUS FUMIGATUS        NaN     NaN             NaN   \n",
       "630933   ASPERGILLUS FUMIGATUS        NaN     NaN             NaN   \n",
       "630934                     NaN        NaN     NaN             NaN   \n",
       "630935                     NaN        NaN     NaN             NaN   \n",
       "\n",
       "       INTERPRETATION  \n",
       "ROW_ID                 \n",
       "744               NaN  \n",
       "745               NaN  \n",
       "746               NaN  \n",
       "747               NaN  \n",
       "748               NaN  \n",
       "...               ...  \n",
       "630931            NaN  \n",
       "630932            NaN  \n",
       "630933            NaN  \n",
       "630934            NaN  \n",
       "630935            NaN  \n",
       "\n",
       "[631726 rows x 10 columns]"
      ]
     },
     "execution_count": 145,
     "metadata": {},
     "output_type": "execute_result"
    }
   ],
   "source": [
    "micro"
   ]
  },
  {
   "cell_type": "code",
   "execution_count": 142,
   "metadata": {},
   "outputs": [
    {
     "data": {
      "text/plain": [
       "355892"
      ]
     },
     "execution_count": 142,
     "metadata": {},
     "output_type": "execute_result"
    }
   ],
   "source": [
    "micro.AB_ITEMID.isnull().sum()"
   ]
  },
  {
   "cell_type": "code",
   "execution_count": 157,
   "metadata": {},
   "outputs": [],
   "source": [
    "spec=micro[['SUBJECT_ID', 'HADM_ID', 'ITEMID', 'SPEC_TYPE_DESC', 'DILUTION_VALUE', 'INTERPRETATION']]"
   ]
  },
  {
   "cell_type": "code",
   "execution_count": 158,
   "metadata": {},
   "outputs": [],
   "source": [
    "org=micro[['SUBJECT_ID', 'HADM_ID', 'ORG_ITEMID', 'ORG_NAME', 'DILUTION_VALUE', 'INTERPRETATION']]"
   ]
  },
  {
   "cell_type": "code",
   "execution_count": 159,
   "metadata": {},
   "outputs": [],
   "source": [
    "ab=micro[['SUBJECT_ID', 'HADM_ID', 'AB_ITEMID', 'AB_NAME', 'DILUTION_VALUE', 'INTERPRETATION']]"
   ]
  },
  {
   "cell_type": "code",
   "execution_count": 160,
   "metadata": {},
   "outputs": [],
   "source": [
    "org.rename(columns = {'ORG_ITEMID':'ITEMID', 'ORG_NAME':'DESC'}, inplace = True)\n",
    "ab.rename(columns = {'AB_ITEMID':'ITEMID', 'AB_NAME':'DESC'}, inplace = True)\n",
    "spec.rename(columns = {'SPEC_TYPE_DESC':'DESC'}, inplace = True)"
   ]
  },
  {
   "cell_type": "code",
   "execution_count": 161,
   "metadata": {},
   "outputs": [],
   "source": [
    "micro_t=pd.concat([spec, org, ab])"
   ]
  },
  {
   "cell_type": "code",
   "execution_count": 162,
   "metadata": {},
   "outputs": [
    {
     "name": "stdout",
     "output_type": "stream",
     "text": [
      "<class 'pandas.core.frame.DataFrame'>\n",
      "Int64Index: 1895178 entries, 744 to 630935\n",
      "Data columns (total 6 columns):\n",
      "SUBJECT_ID        int64\n",
      "HADM_ID           int64\n",
      "ITEMID            float64\n",
      "DESC              object\n",
      "DILUTION_VALUE    float64\n",
      "INTERPRETATION    object\n",
      "dtypes: float64(2), int64(2), object(2)\n",
      "memory usage: 101.2+ MB\n"
     ]
    }
   ],
   "source": [
    "micro_t.info()"
   ]
  },
  {
   "cell_type": "code",
   "execution_count": 163,
   "metadata": {},
   "outputs": [
    {
     "data": {
      "text/plain": [
       "1067676"
      ]
     },
     "execution_count": 163,
     "metadata": {},
     "output_type": "execute_result"
    }
   ],
   "source": [
    "micro_t.INTERPRETATION.isnull().sum()"
   ]
  },
  {
   "cell_type": "code",
   "execution_count": 164,
   "metadata": {},
   "outputs": [
    {
     "data": {
      "text/html": [
       "<div>\n",
       "<style scoped>\n",
       "    .dataframe tbody tr th:only-of-type {\n",
       "        vertical-align: middle;\n",
       "    }\n",
       "\n",
       "    .dataframe tbody tr th {\n",
       "        vertical-align: top;\n",
       "    }\n",
       "\n",
       "    .dataframe thead th {\n",
       "        text-align: right;\n",
       "    }\n",
       "</style>\n",
       "<table border=\"1\" class=\"dataframe\">\n",
       "  <thead>\n",
       "    <tr style=\"text-align: right;\">\n",
       "      <th></th>\n",
       "      <th>SUBJECT_ID</th>\n",
       "      <th>HADM_ID</th>\n",
       "      <th>ITEMID</th>\n",
       "      <th>DESC</th>\n",
       "      <th>DILUTION_VALUE</th>\n",
       "      <th>INTERPRETATION</th>\n",
       "    </tr>\n",
       "    <tr>\n",
       "      <th>ROW_ID</th>\n",
       "      <th></th>\n",
       "      <th></th>\n",
       "      <th></th>\n",
       "      <th></th>\n",
       "      <th></th>\n",
       "      <th></th>\n",
       "    </tr>\n",
       "  </thead>\n",
       "  <tbody>\n",
       "    <tr>\n",
       "      <td>744</td>\n",
       "      <td>96</td>\n",
       "      <td>170324</td>\n",
       "      <td>825.0</td>\n",
       "      <td>BRONCHOALVEOLAR LAVAGE</td>\n",
       "      <td>NaN</td>\n",
       "      <td>NaN</td>\n",
       "    </tr>\n",
       "    <tr>\n",
       "      <td>745</td>\n",
       "      <td>96</td>\n",
       "      <td>170324</td>\n",
       "      <td>826.0</td>\n",
       "      <td>SPUTUM</td>\n",
       "      <td>NaN</td>\n",
       "      <td>NaN</td>\n",
       "    </tr>\n",
       "    <tr>\n",
       "      <td>746</td>\n",
       "      <td>96</td>\n",
       "      <td>170324</td>\n",
       "      <td>827.0</td>\n",
       "      <td>BLOOD CULTURE</td>\n",
       "      <td>NaN</td>\n",
       "      <td>NaN</td>\n",
       "    </tr>\n",
       "    <tr>\n",
       "      <td>747</td>\n",
       "      <td>96</td>\n",
       "      <td>170324</td>\n",
       "      <td>828.0</td>\n",
       "      <td>BLOOD CULTURE</td>\n",
       "      <td>NaN</td>\n",
       "      <td>NaN</td>\n",
       "    </tr>\n",
       "    <tr>\n",
       "      <td>748</td>\n",
       "      <td>96</td>\n",
       "      <td>170324</td>\n",
       "      <td>829.0</td>\n",
       "      <td>URINE</td>\n",
       "      <td>NaN</td>\n",
       "      <td>NaN</td>\n",
       "    </tr>\n",
       "  </tbody>\n",
       "</table>\n",
       "</div>"
      ],
      "text/plain": [
       "        SUBJECT_ID  HADM_ID  ITEMID                    DESC  DILUTION_VALUE  \\\n",
       "ROW_ID                                                                        \n",
       "744             96   170324   825.0  BRONCHOALVEOLAR LAVAGE             NaN   \n",
       "745             96   170324   826.0                  SPUTUM             NaN   \n",
       "746             96   170324   827.0           BLOOD CULTURE             NaN   \n",
       "747             96   170324   828.0           BLOOD CULTURE             NaN   \n",
       "748             96   170324   829.0                   URINE             NaN   \n",
       "\n",
       "       INTERPRETATION  \n",
       "ROW_ID                 \n",
       "744               NaN  \n",
       "745               NaN  \n",
       "746               NaN  \n",
       "747               NaN  \n",
       "748               NaN  "
      ]
     },
     "execution_count": 164,
     "metadata": {},
     "output_type": "execute_result"
    }
   ],
   "source": [
    "micro_t.head()"
   ]
  },
  {
   "cell_type": "code",
   "execution_count": 165,
   "metadata": {},
   "outputs": [
    {
     "name": "stdout",
     "output_type": "stream",
     "text": [
      "<class 'pandas.core.frame.DataFrame'>\n",
      "Int64Index: 212097 entries, 763 to 630903\n",
      "Data columns (total 6 columns):\n",
      "SUBJECT_ID        212097 non-null int64\n",
      "HADM_ID           212097 non-null int64\n",
      "ITEMID            5118 non-null float64\n",
      "DESC              137263 non-null object\n",
      "DILUTION_VALUE    88134 non-null float64\n",
      "INTERPRETATION    91152 non-null object\n",
      "dtypes: float64(2), int64(2), object(2)\n",
      "memory usage: 11.3+ MB\n"
     ]
    }
   ],
   "source": [
    "micro_5k=micro_t[micro_t['SUBJECT_ID'].isin(id_list)]\n",
    "micro_5k.info()"
   ]
  },
  {
   "cell_type": "code",
   "execution_count": 166,
   "metadata": {},
   "outputs": [],
   "source": [
    "micro_5k=item_merge(micro_5k, d_c)"
   ]
  },
  {
   "cell_type": "code",
   "execution_count": 167,
   "metadata": {},
   "outputs": [
    {
     "data": {
      "text/html": [
       "<div>\n",
       "<style scoped>\n",
       "    .dataframe tbody tr th:only-of-type {\n",
       "        vertical-align: middle;\n",
       "    }\n",
       "\n",
       "    .dataframe tbody tr th {\n",
       "        vertical-align: top;\n",
       "    }\n",
       "\n",
       "    .dataframe thead th {\n",
       "        text-align: right;\n",
       "    }\n",
       "</style>\n",
       "<table border=\"1\" class=\"dataframe\">\n",
       "  <thead>\n",
       "    <tr style=\"text-align: right;\">\n",
       "      <th></th>\n",
       "      <th>SUBJECT_ID</th>\n",
       "      <th>HADM_ID</th>\n",
       "      <th>ITEMID</th>\n",
       "      <th>DESC</th>\n",
       "      <th>DILUTION_VALUE</th>\n",
       "      <th>INTERPRETATION</th>\n",
       "      <th>LABEL</th>\n",
       "      <th>ABBREVIATION</th>\n",
       "      <th>CATEGORY</th>\n",
       "    </tr>\n",
       "  </thead>\n",
       "  <tbody>\n",
       "    <tr>\n",
       "      <td>0</td>\n",
       "      <td>102</td>\n",
       "      <td>195700</td>\n",
       "      <td>3072.0</td>\n",
       "      <td>BLOOD CULTURE - NEONATE</td>\n",
       "      <td>NaN</td>\n",
       "      <td>NaN</td>\n",
       "      <td>IRON  45-160</td>\n",
       "      <td>NaN</td>\n",
       "      <td>NaN</td>\n",
       "    </tr>\n",
       "    <tr>\n",
       "      <td>1</td>\n",
       "      <td>52</td>\n",
       "      <td>190797</td>\n",
       "      <td>347.0</td>\n",
       "      <td>BLOOD CULTURE</td>\n",
       "      <td>NaN</td>\n",
       "      <td>NaN</td>\n",
       "      <td>ImpSkin Character #4</td>\n",
       "      <td>NaN</td>\n",
       "      <td>NaN</td>\n",
       "    </tr>\n",
       "    <tr>\n",
       "      <td>2</td>\n",
       "      <td>52</td>\n",
       "      <td>190797</td>\n",
       "      <td>348.0</td>\n",
       "      <td>BLOOD CULTURE</td>\n",
       "      <td>NaN</td>\n",
       "      <td>NaN</td>\n",
       "      <td>ImpSkin Character #5</td>\n",
       "      <td>NaN</td>\n",
       "      <td>NaN</td>\n",
       "    </tr>\n",
       "    <tr>\n",
       "      <td>3</td>\n",
       "      <td>52</td>\n",
       "      <td>190797</td>\n",
       "      <td>349.0</td>\n",
       "      <td>URINE</td>\n",
       "      <td>NaN</td>\n",
       "      <td>NaN</td>\n",
       "      <td>ImpSkin Character #6</td>\n",
       "      <td>NaN</td>\n",
       "      <td>NaN</td>\n",
       "    </tr>\n",
       "    <tr>\n",
       "      <td>4</td>\n",
       "      <td>52</td>\n",
       "      <td>190797</td>\n",
       "      <td>350.0</td>\n",
       "      <td>STOOL</td>\n",
       "      <td>NaN</td>\n",
       "      <td>NaN</td>\n",
       "      <td>ImpSkin #3 [Drain]</td>\n",
       "      <td>NaN</td>\n",
       "      <td>NaN</td>\n",
       "    </tr>\n",
       "    <tr>\n",
       "      <td>...</td>\n",
       "      <td>...</td>\n",
       "      <td>...</td>\n",
       "      <td>...</td>\n",
       "      <td>...</td>\n",
       "      <td>...</td>\n",
       "      <td>...</td>\n",
       "      <td>...</td>\n",
       "      <td>...</td>\n",
       "      <td>...</td>\n",
       "    </tr>\n",
       "    <tr>\n",
       "      <td>212092</td>\n",
       "      <td>99781</td>\n",
       "      <td>147562</td>\n",
       "      <td>NaN</td>\n",
       "      <td>NaN</td>\n",
       "      <td>NaN</td>\n",
       "      <td>NaN</td>\n",
       "      <td>NaN</td>\n",
       "      <td>NaN</td>\n",
       "      <td>NaN</td>\n",
       "    </tr>\n",
       "    <tr>\n",
       "      <td>212093</td>\n",
       "      <td>99781</td>\n",
       "      <td>147562</td>\n",
       "      <td>NaN</td>\n",
       "      <td>NaN</td>\n",
       "      <td>NaN</td>\n",
       "      <td>NaN</td>\n",
       "      <td>NaN</td>\n",
       "      <td>NaN</td>\n",
       "      <td>NaN</td>\n",
       "    </tr>\n",
       "    <tr>\n",
       "      <td>212094</td>\n",
       "      <td>99781</td>\n",
       "      <td>147562</td>\n",
       "      <td>NaN</td>\n",
       "      <td>NaN</td>\n",
       "      <td>NaN</td>\n",
       "      <td>NaN</td>\n",
       "      <td>NaN</td>\n",
       "      <td>NaN</td>\n",
       "      <td>NaN</td>\n",
       "    </tr>\n",
       "    <tr>\n",
       "      <td>212095</td>\n",
       "      <td>99781</td>\n",
       "      <td>147562</td>\n",
       "      <td>NaN</td>\n",
       "      <td>NaN</td>\n",
       "      <td>NaN</td>\n",
       "      <td>NaN</td>\n",
       "      <td>NaN</td>\n",
       "      <td>NaN</td>\n",
       "      <td>NaN</td>\n",
       "    </tr>\n",
       "    <tr>\n",
       "      <td>212096</td>\n",
       "      <td>99781</td>\n",
       "      <td>147562</td>\n",
       "      <td>NaN</td>\n",
       "      <td>NaN</td>\n",
       "      <td>NaN</td>\n",
       "      <td>NaN</td>\n",
       "      <td>NaN</td>\n",
       "      <td>NaN</td>\n",
       "      <td>NaN</td>\n",
       "    </tr>\n",
       "  </tbody>\n",
       "</table>\n",
       "<p>212097 rows × 9 columns</p>\n",
       "</div>"
      ],
      "text/plain": [
       "        SUBJECT_ID  HADM_ID  ITEMID                     DESC  DILUTION_VALUE  \\\n",
       "0              102   195700  3072.0  BLOOD CULTURE - NEONATE             NaN   \n",
       "1               52   190797   347.0            BLOOD CULTURE             NaN   \n",
       "2               52   190797   348.0            BLOOD CULTURE             NaN   \n",
       "3               52   190797   349.0                    URINE             NaN   \n",
       "4               52   190797   350.0                    STOOL             NaN   \n",
       "...            ...      ...     ...                      ...             ...   \n",
       "212092       99781   147562     NaN                      NaN             NaN   \n",
       "212093       99781   147562     NaN                      NaN             NaN   \n",
       "212094       99781   147562     NaN                      NaN             NaN   \n",
       "212095       99781   147562     NaN                      NaN             NaN   \n",
       "212096       99781   147562     NaN                      NaN             NaN   \n",
       "\n",
       "       INTERPRETATION                 LABEL ABBREVIATION CATEGORY  \n",
       "0                 NaN          IRON  45-160          NaN      NaN  \n",
       "1                 NaN  ImpSkin Character #4          NaN      NaN  \n",
       "2                 NaN  ImpSkin Character #5          NaN      NaN  \n",
       "3                 NaN  ImpSkin Character #6          NaN      NaN  \n",
       "4                 NaN    ImpSkin #3 [Drain]          NaN      NaN  \n",
       "...               ...                   ...          ...      ...  \n",
       "212092            NaN                   NaN          NaN      NaN  \n",
       "212093            NaN                   NaN          NaN      NaN  \n",
       "212094            NaN                   NaN          NaN      NaN  \n",
       "212095            NaN                   NaN          NaN      NaN  \n",
       "212096            NaN                   NaN          NaN      NaN  \n",
       "\n",
       "[212097 rows x 9 columns]"
      ]
     },
     "execution_count": 167,
     "metadata": {},
     "output_type": "execute_result"
    }
   ],
   "source": [
    "micro_5k"
   ]
  },
  {
   "cell_type": "code",
   "execution_count": 169,
   "metadata": {},
   "outputs": [],
   "source": [
    "micro_5k=micro_5k[['SUBJECT_ID', 'HADM_ID', 'ITEMID', 'LABEL', 'ABBREVIATION', 'CATEGORY', 'DESC', 'DILUTION_VALUE', 'INTERPRETATION']]"
   ]
  },
  {
   "cell_type": "code",
   "execution_count": 170,
   "metadata": {},
   "outputs": [
    {
     "data": {
      "text/html": [
       "<div>\n",
       "<style scoped>\n",
       "    .dataframe tbody tr th:only-of-type {\n",
       "        vertical-align: middle;\n",
       "    }\n",
       "\n",
       "    .dataframe tbody tr th {\n",
       "        vertical-align: top;\n",
       "    }\n",
       "\n",
       "    .dataframe thead th {\n",
       "        text-align: right;\n",
       "    }\n",
       "</style>\n",
       "<table border=\"1\" class=\"dataframe\">\n",
       "  <thead>\n",
       "    <tr style=\"text-align: right;\">\n",
       "      <th></th>\n",
       "      <th>SUBJECT_ID</th>\n",
       "      <th>HADM_ID</th>\n",
       "      <th>ITEMID</th>\n",
       "      <th>LABEL</th>\n",
       "      <th>ABBREVIATION</th>\n",
       "      <th>CATEGORY</th>\n",
       "      <th>DESC</th>\n",
       "      <th>DILUTION_VALUE</th>\n",
       "      <th>INTERPRETATION</th>\n",
       "    </tr>\n",
       "  </thead>\n",
       "  <tbody>\n",
       "    <tr>\n",
       "      <td>0</td>\n",
       "      <td>102</td>\n",
       "      <td>195700</td>\n",
       "      <td>3072.0</td>\n",
       "      <td>IRON  45-160</td>\n",
       "      <td>NaN</td>\n",
       "      <td>NaN</td>\n",
       "      <td>BLOOD CULTURE - NEONATE</td>\n",
       "      <td>NaN</td>\n",
       "      <td>NaN</td>\n",
       "    </tr>\n",
       "    <tr>\n",
       "      <td>1</td>\n",
       "      <td>52</td>\n",
       "      <td>190797</td>\n",
       "      <td>347.0</td>\n",
       "      <td>ImpSkin Character #4</td>\n",
       "      <td>NaN</td>\n",
       "      <td>NaN</td>\n",
       "      <td>BLOOD CULTURE</td>\n",
       "      <td>NaN</td>\n",
       "      <td>NaN</td>\n",
       "    </tr>\n",
       "    <tr>\n",
       "      <td>2</td>\n",
       "      <td>52</td>\n",
       "      <td>190797</td>\n",
       "      <td>348.0</td>\n",
       "      <td>ImpSkin Character #5</td>\n",
       "      <td>NaN</td>\n",
       "      <td>NaN</td>\n",
       "      <td>BLOOD CULTURE</td>\n",
       "      <td>NaN</td>\n",
       "      <td>NaN</td>\n",
       "    </tr>\n",
       "    <tr>\n",
       "      <td>3</td>\n",
       "      <td>52</td>\n",
       "      <td>190797</td>\n",
       "      <td>349.0</td>\n",
       "      <td>ImpSkin Character #6</td>\n",
       "      <td>NaN</td>\n",
       "      <td>NaN</td>\n",
       "      <td>URINE</td>\n",
       "      <td>NaN</td>\n",
       "      <td>NaN</td>\n",
       "    </tr>\n",
       "    <tr>\n",
       "      <td>4</td>\n",
       "      <td>52</td>\n",
       "      <td>190797</td>\n",
       "      <td>350.0</td>\n",
       "      <td>ImpSkin #3 [Drain]</td>\n",
       "      <td>NaN</td>\n",
       "      <td>NaN</td>\n",
       "      <td>STOOL</td>\n",
       "      <td>NaN</td>\n",
       "      <td>NaN</td>\n",
       "    </tr>\n",
       "  </tbody>\n",
       "</table>\n",
       "</div>"
      ],
      "text/plain": [
       "   SUBJECT_ID  HADM_ID  ITEMID                 LABEL ABBREVIATION CATEGORY  \\\n",
       "0         102   195700  3072.0          IRON  45-160          NaN      NaN   \n",
       "1          52   190797   347.0  ImpSkin Character #4          NaN      NaN   \n",
       "2          52   190797   348.0  ImpSkin Character #5          NaN      NaN   \n",
       "3          52   190797   349.0  ImpSkin Character #6          NaN      NaN   \n",
       "4          52   190797   350.0    ImpSkin #3 [Drain]          NaN      NaN   \n",
       "\n",
       "                      DESC  DILUTION_VALUE INTERPRETATION  \n",
       "0  BLOOD CULTURE - NEONATE             NaN            NaN  \n",
       "1            BLOOD CULTURE             NaN            NaN  \n",
       "2            BLOOD CULTURE             NaN            NaN  \n",
       "3                    URINE             NaN            NaN  \n",
       "4                    STOOL             NaN            NaN  "
      ]
     },
     "execution_count": 170,
     "metadata": {},
     "output_type": "execute_result"
    }
   ],
   "source": [
    "micro_5k.head()"
   ]
  },
  {
   "cell_type": "markdown",
   "metadata": {},
   "source": [
    "### Working Dataset 4:microbiology table\n",
    "\n",
    "+ D_ITEMS.csv\n",
    "+ MICROBIOLOGYEVENTS.csv"
   ]
  },
  {
   "cell_type": "code",
   "execution_count": 189,
   "metadata": {},
   "outputs": [
    {
     "name": "stderr",
     "output_type": "stream",
     "text": [
      "C:\\Users\\abebu\\Anaconda3\\lib\\site-packages\\IPython\\core\\interactiveshell.py:3058: DtypeWarning: Columns (11) have mixed types. Specify dtype option on import or set low_memory=False.\n",
      "  interactivity=interactivity, compiler=compiler, result=result)\n"
     ]
    },
    {
     "name": "stdout",
     "output_type": "stream",
     "text": [
      "<class 'pandas.core.frame.DataFrame'>\n",
      "Int64Index: 4156450 entries, 2214776 to 3996061\n",
      "Data columns (total 18 columns):\n",
      "SUBJECT_ID           int64\n",
      "HADM_ID              int64\n",
      "ICUSTAY_ID           float64\n",
      "STARTDATE            datetime64[ns]\n",
      "ENDDATE              datetime64[ns]\n",
      "DRUG_TYPE            object\n",
      "DRUG                 object\n",
      "DRUG_NAME_POE        object\n",
      "DRUG_NAME_GENERIC    object\n",
      "FORMULARY_DRUG_CD    object\n",
      "GSN                  object\n",
      "NDC                  float64\n",
      "PROD_STRENGTH        object\n",
      "DOSE_VAL_RX          object\n",
      "DOSE_UNIT_RX         object\n",
      "FORM_VAL_DISP        object\n",
      "FORM_UNIT_DISP       object\n",
      "ROUTE                object\n",
      "dtypes: datetime64[ns](2), float64(2), int64(2), object(12)\n",
      "memory usage: 602.5+ MB\n"
     ]
    }
   ],
   "source": [
    "rx=pd.read_csv('PRESCRIPTIONS.csv', header=0, index_col=0) \n",
    "rx.STARTDATE = pd.to_datetime(rx.STARTDATE)\n",
    "rx.ENDDATE = pd.to_datetime(rx.ENDDATE)\n",
    "rx.info()"
   ]
  },
  {
   "cell_type": "code",
   "execution_count": 190,
   "metadata": {},
   "outputs": [
    {
     "data": {
      "text/html": [
       "<div>\n",
       "<style scoped>\n",
       "    .dataframe tbody tr th:only-of-type {\n",
       "        vertical-align: middle;\n",
       "    }\n",
       "\n",
       "    .dataframe tbody tr th {\n",
       "        vertical-align: top;\n",
       "    }\n",
       "\n",
       "    .dataframe thead th {\n",
       "        text-align: right;\n",
       "    }\n",
       "</style>\n",
       "<table border=\"1\" class=\"dataframe\">\n",
       "  <thead>\n",
       "    <tr style=\"text-align: right;\">\n",
       "      <th></th>\n",
       "      <th>SUBJECT_ID</th>\n",
       "      <th>HADM_ID</th>\n",
       "      <th>ICUSTAY_ID</th>\n",
       "      <th>STARTDATE</th>\n",
       "      <th>ENDDATE</th>\n",
       "      <th>DRUG_TYPE</th>\n",
       "      <th>DRUG</th>\n",
       "      <th>DRUG_NAME_POE</th>\n",
       "      <th>DRUG_NAME_GENERIC</th>\n",
       "      <th>FORMULARY_DRUG_CD</th>\n",
       "      <th>GSN</th>\n",
       "      <th>NDC</th>\n",
       "      <th>PROD_STRENGTH</th>\n",
       "      <th>DOSE_VAL_RX</th>\n",
       "      <th>DOSE_UNIT_RX</th>\n",
       "      <th>FORM_VAL_DISP</th>\n",
       "      <th>FORM_UNIT_DISP</th>\n",
       "      <th>ROUTE</th>\n",
       "    </tr>\n",
       "    <tr>\n",
       "      <th>ROW_ID</th>\n",
       "      <th></th>\n",
       "      <th></th>\n",
       "      <th></th>\n",
       "      <th></th>\n",
       "      <th></th>\n",
       "      <th></th>\n",
       "      <th></th>\n",
       "      <th></th>\n",
       "      <th></th>\n",
       "      <th></th>\n",
       "      <th></th>\n",
       "      <th></th>\n",
       "      <th></th>\n",
       "      <th></th>\n",
       "      <th></th>\n",
       "      <th></th>\n",
       "      <th></th>\n",
       "      <th></th>\n",
       "    </tr>\n",
       "  </thead>\n",
       "  <tbody>\n",
       "    <tr>\n",
       "      <td>2214776</td>\n",
       "      <td>6</td>\n",
       "      <td>107064</td>\n",
       "      <td>NaN</td>\n",
       "      <td>2175-06-11</td>\n",
       "      <td>2175-06-12</td>\n",
       "      <td>MAIN</td>\n",
       "      <td>Tacrolimus</td>\n",
       "      <td>Tacrolimus</td>\n",
       "      <td>Tacrolimus</td>\n",
       "      <td>TACR1</td>\n",
       "      <td>021796</td>\n",
       "      <td>4.690617e+08</td>\n",
       "      <td>1mg Capsule</td>\n",
       "      <td>2</td>\n",
       "      <td>mg</td>\n",
       "      <td>2</td>\n",
       "      <td>CAP</td>\n",
       "      <td>PO</td>\n",
       "    </tr>\n",
       "    <tr>\n",
       "      <td>2214775</td>\n",
       "      <td>6</td>\n",
       "      <td>107064</td>\n",
       "      <td>NaN</td>\n",
       "      <td>2175-06-11</td>\n",
       "      <td>2175-06-12</td>\n",
       "      <td>MAIN</td>\n",
       "      <td>Warfarin</td>\n",
       "      <td>Warfarin</td>\n",
       "      <td>Warfarin</td>\n",
       "      <td>WARF5</td>\n",
       "      <td>006562</td>\n",
       "      <td>5.601728e+07</td>\n",
       "      <td>5mg Tablet</td>\n",
       "      <td>5</td>\n",
       "      <td>mg</td>\n",
       "      <td>1</td>\n",
       "      <td>TAB</td>\n",
       "      <td>PO</td>\n",
       "    </tr>\n",
       "    <tr>\n",
       "      <td>2215524</td>\n",
       "      <td>6</td>\n",
       "      <td>107064</td>\n",
       "      <td>NaN</td>\n",
       "      <td>2175-06-11</td>\n",
       "      <td>2175-06-12</td>\n",
       "      <td>MAIN</td>\n",
       "      <td>Heparin Sodium</td>\n",
       "      <td>NaN</td>\n",
       "      <td>NaN</td>\n",
       "      <td>HEPAPREMIX</td>\n",
       "      <td>006522</td>\n",
       "      <td>3.380550e+08</td>\n",
       "      <td>25,000 unit Premix Bag</td>\n",
       "      <td>25,000</td>\n",
       "      <td>UNIT</td>\n",
       "      <td>1</td>\n",
       "      <td>BAG</td>\n",
       "      <td>IV</td>\n",
       "    </tr>\n",
       "    <tr>\n",
       "      <td>2216265</td>\n",
       "      <td>6</td>\n",
       "      <td>107064</td>\n",
       "      <td>NaN</td>\n",
       "      <td>2175-06-11</td>\n",
       "      <td>2175-06-12</td>\n",
       "      <td>BASE</td>\n",
       "      <td>D5W</td>\n",
       "      <td>NaN</td>\n",
       "      <td>NaN</td>\n",
       "      <td>HEPBASE</td>\n",
       "      <td>NaN</td>\n",
       "      <td>0.000000e+00</td>\n",
       "      <td>HEPARIN BASE</td>\n",
       "      <td>250</td>\n",
       "      <td>ml</td>\n",
       "      <td>250</td>\n",
       "      <td>ml</td>\n",
       "      <td>IV</td>\n",
       "    </tr>\n",
       "    <tr>\n",
       "      <td>2214773</td>\n",
       "      <td>6</td>\n",
       "      <td>107064</td>\n",
       "      <td>NaN</td>\n",
       "      <td>2175-06-11</td>\n",
       "      <td>2175-06-12</td>\n",
       "      <td>MAIN</td>\n",
       "      <td>Furosemide</td>\n",
       "      <td>Furosemide</td>\n",
       "      <td>Furosemide</td>\n",
       "      <td>FURO20</td>\n",
       "      <td>008208</td>\n",
       "      <td>5.482972e+07</td>\n",
       "      <td>20mg Tablet</td>\n",
       "      <td>20</td>\n",
       "      <td>mg</td>\n",
       "      <td>1</td>\n",
       "      <td>TAB</td>\n",
       "      <td>PO</td>\n",
       "    </tr>\n",
       "    <tr>\n",
       "      <td>...</td>\n",
       "      <td>...</td>\n",
       "      <td>...</td>\n",
       "      <td>...</td>\n",
       "      <td>...</td>\n",
       "      <td>...</td>\n",
       "      <td>...</td>\n",
       "      <td>...</td>\n",
       "      <td>...</td>\n",
       "      <td>...</td>\n",
       "      <td>...</td>\n",
       "      <td>...</td>\n",
       "      <td>...</td>\n",
       "      <td>...</td>\n",
       "      <td>...</td>\n",
       "      <td>...</td>\n",
       "      <td>...</td>\n",
       "      <td>...</td>\n",
       "      <td>...</td>\n",
       "    </tr>\n",
       "    <tr>\n",
       "      <td>3996662</td>\n",
       "      <td>98887</td>\n",
       "      <td>121032</td>\n",
       "      <td>238144.0</td>\n",
       "      <td>2144-09-06</td>\n",
       "      <td>2144-09-06</td>\n",
       "      <td>MAIN</td>\n",
       "      <td>PredniSONE</td>\n",
       "      <td>PredniSONE</td>\n",
       "      <td>PredniSONE</td>\n",
       "      <td>PRED20</td>\n",
       "      <td>006751</td>\n",
       "      <td>5.400182e+07</td>\n",
       "      <td>20 mg Tablet</td>\n",
       "      <td>40</td>\n",
       "      <td>mg</td>\n",
       "      <td>2</td>\n",
       "      <td>TAB</td>\n",
       "      <td>PO/NG</td>\n",
       "    </tr>\n",
       "    <tr>\n",
       "      <td>3996070</td>\n",
       "      <td>98887</td>\n",
       "      <td>121032</td>\n",
       "      <td>238144.0</td>\n",
       "      <td>2144-09-06</td>\n",
       "      <td>2144-09-06</td>\n",
       "      <td>MAIN</td>\n",
       "      <td>Ipratropium Bromide Neb</td>\n",
       "      <td>Ipratropium Bromide Neb</td>\n",
       "      <td>Ipratropium Bromide Neb</td>\n",
       "      <td>IPRA2H</td>\n",
       "      <td>021700</td>\n",
       "      <td>4.879801e+08</td>\n",
       "      <td>2.5mL Vial</td>\n",
       "      <td>1</td>\n",
       "      <td>NEB</td>\n",
       "      <td>1</td>\n",
       "      <td>VIAL</td>\n",
       "      <td>IH</td>\n",
       "    </tr>\n",
       "    <tr>\n",
       "      <td>3996063</td>\n",
       "      <td>98887</td>\n",
       "      <td>121032</td>\n",
       "      <td>238144.0</td>\n",
       "      <td>2144-09-06</td>\n",
       "      <td>2144-09-06</td>\n",
       "      <td>MAIN</td>\n",
       "      <td>HYDROmorphone (Dilaudid)</td>\n",
       "      <td>HYDROmorphone (Dilaudid)</td>\n",
       "      <td>HYDROmorphone</td>\n",
       "      <td>HYDR20/100NS</td>\n",
       "      <td>048078</td>\n",
       "      <td>6.155302e+10</td>\n",
       "      <td>20 mg / 100 mL Premix Bag</td>\n",
       "      <td>0.12</td>\n",
       "      <td>mg</td>\n",
       "      <td>0.01</td>\n",
       "      <td>BAG</td>\n",
       "      <td>IVPCA</td>\n",
       "    </tr>\n",
       "    <tr>\n",
       "      <td>3996062</td>\n",
       "      <td>98887</td>\n",
       "      <td>121032</td>\n",
       "      <td>238144.0</td>\n",
       "      <td>2144-09-06</td>\n",
       "      <td>2144-09-06</td>\n",
       "      <td>MAIN</td>\n",
       "      <td>Docusate Sodium</td>\n",
       "      <td>Docusate Sodium</td>\n",
       "      <td>Docusate Sodium</td>\n",
       "      <td>DOCU100</td>\n",
       "      <td>003009</td>\n",
       "      <td>9.042245e+08</td>\n",
       "      <td>100mg Capsule</td>\n",
       "      <td>100</td>\n",
       "      <td>mg</td>\n",
       "      <td>1</td>\n",
       "      <td>CAP</td>\n",
       "      <td>PO</td>\n",
       "    </tr>\n",
       "    <tr>\n",
       "      <td>3996061</td>\n",
       "      <td>98887</td>\n",
       "      <td>121032</td>\n",
       "      <td>238144.0</td>\n",
       "      <td>2144-09-06</td>\n",
       "      <td>2144-09-06</td>\n",
       "      <td>MAIN</td>\n",
       "      <td>Senna</td>\n",
       "      <td>Senna</td>\n",
       "      <td>Senna</td>\n",
       "      <td>SENN187</td>\n",
       "      <td>019964</td>\n",
       "      <td>9.045166e+08</td>\n",
       "      <td>1 Tablet</td>\n",
       "      <td>1</td>\n",
       "      <td>TAB</td>\n",
       "      <td>1</td>\n",
       "      <td>TAB</td>\n",
       "      <td>PO/NG</td>\n",
       "    </tr>\n",
       "  </tbody>\n",
       "</table>\n",
       "<p>4156450 rows × 18 columns</p>\n",
       "</div>"
      ],
      "text/plain": [
       "         SUBJECT_ID  HADM_ID  ICUSTAY_ID  STARTDATE    ENDDATE DRUG_TYPE  \\\n",
       "ROW_ID                                                                     \n",
       "2214776           6   107064         NaN 2175-06-11 2175-06-12      MAIN   \n",
       "2214775           6   107064         NaN 2175-06-11 2175-06-12      MAIN   \n",
       "2215524           6   107064         NaN 2175-06-11 2175-06-12      MAIN   \n",
       "2216265           6   107064         NaN 2175-06-11 2175-06-12      BASE   \n",
       "2214773           6   107064         NaN 2175-06-11 2175-06-12      MAIN   \n",
       "...             ...      ...         ...        ...        ...       ...   \n",
       "3996662       98887   121032    238144.0 2144-09-06 2144-09-06      MAIN   \n",
       "3996070       98887   121032    238144.0 2144-09-06 2144-09-06      MAIN   \n",
       "3996063       98887   121032    238144.0 2144-09-06 2144-09-06      MAIN   \n",
       "3996062       98887   121032    238144.0 2144-09-06 2144-09-06      MAIN   \n",
       "3996061       98887   121032    238144.0 2144-09-06 2144-09-06      MAIN   \n",
       "\n",
       "                             DRUG             DRUG_NAME_POE  \\\n",
       "ROW_ID                                                        \n",
       "2214776                Tacrolimus                Tacrolimus   \n",
       "2214775                  Warfarin                  Warfarin   \n",
       "2215524            Heparin Sodium                       NaN   \n",
       "2216265                       D5W                       NaN   \n",
       "2214773                Furosemide                Furosemide   \n",
       "...                           ...                       ...   \n",
       "3996662                PredniSONE                PredniSONE   \n",
       "3996070   Ipratropium Bromide Neb   Ipratropium Bromide Neb   \n",
       "3996063  HYDROmorphone (Dilaudid)  HYDROmorphone (Dilaudid)   \n",
       "3996062           Docusate Sodium           Docusate Sodium   \n",
       "3996061                     Senna                     Senna   \n",
       "\n",
       "               DRUG_NAME_GENERIC FORMULARY_DRUG_CD     GSN           NDC  \\\n",
       "ROW_ID                                                                     \n",
       "2214776               Tacrolimus             TACR1  021796  4.690617e+08   \n",
       "2214775                 Warfarin             WARF5  006562  5.601728e+07   \n",
       "2215524                      NaN        HEPAPREMIX  006522  3.380550e+08   \n",
       "2216265                      NaN           HEPBASE     NaN  0.000000e+00   \n",
       "2214773               Furosemide            FURO20  008208  5.482972e+07   \n",
       "...                          ...               ...     ...           ...   \n",
       "3996662               PredniSONE            PRED20  006751  5.400182e+07   \n",
       "3996070  Ipratropium Bromide Neb            IPRA2H  021700  4.879801e+08   \n",
       "3996063            HYDROmorphone      HYDR20/100NS  048078  6.155302e+10   \n",
       "3996062          Docusate Sodium           DOCU100  003009  9.042245e+08   \n",
       "3996061                    Senna           SENN187  019964  9.045166e+08   \n",
       "\n",
       "                     PROD_STRENGTH DOSE_VAL_RX DOSE_UNIT_RX FORM_VAL_DISP  \\\n",
       "ROW_ID                                                                      \n",
       "2214776                1mg Capsule           2           mg             2   \n",
       "2214775                 5mg Tablet           5           mg             1   \n",
       "2215524     25,000 unit Premix Bag      25,000         UNIT             1   \n",
       "2216265               HEPARIN BASE         250           ml           250   \n",
       "2214773                20mg Tablet          20           mg             1   \n",
       "...                            ...         ...          ...           ...   \n",
       "3996662               20 mg Tablet          40           mg             2   \n",
       "3996070                 2.5mL Vial           1          NEB             1   \n",
       "3996063  20 mg / 100 mL Premix Bag        0.12           mg          0.01   \n",
       "3996062              100mg Capsule         100           mg             1   \n",
       "3996061                   1 Tablet           1          TAB             1   \n",
       "\n",
       "        FORM_UNIT_DISP  ROUTE  \n",
       "ROW_ID                         \n",
       "2214776            CAP     PO  \n",
       "2214775            TAB     PO  \n",
       "2215524            BAG     IV  \n",
       "2216265             ml     IV  \n",
       "2214773            TAB     PO  \n",
       "...                ...    ...  \n",
       "3996662            TAB  PO/NG  \n",
       "3996070           VIAL     IH  \n",
       "3996063            BAG  IVPCA  \n",
       "3996062            CAP     PO  \n",
       "3996061            TAB  PO/NG  \n",
       "\n",
       "[4156450 rows x 18 columns]"
      ]
     },
     "execution_count": 190,
     "metadata": {},
     "output_type": "execute_result"
    }
   ],
   "source": [
    "rx"
   ]
  },
  {
   "cell_type": "code",
   "execution_count": 191,
   "metadata": {},
   "outputs": [
    {
     "name": "stdout",
     "output_type": "stream",
     "text": [
      "<class 'pandas.core.frame.DataFrame'>\n",
      "Int64Index: 456351 entries, 616864 to 3488584\n",
      "Data columns (total 18 columns):\n",
      "SUBJECT_ID           456351 non-null int64\n",
      "HADM_ID              456351 non-null int64\n",
      "ICUSTAY_ID           298758 non-null float64\n",
      "STARTDATE            456084 non-null datetime64[ns]\n",
      "ENDDATE              455862 non-null datetime64[ns]\n",
      "DRUG_TYPE            456351 non-null object\n",
      "DRUG                 456351 non-null object\n",
      "DRUG_NAME_POE        272355 non-null object\n",
      "DRUG_NAME_GENERIC    272511 non-null object\n",
      "FORMULARY_DRUG_CD    456163 non-null object\n",
      "GSN                  401523 non-null object\n",
      "NDC                  455915 non-null float64\n",
      "PROD_STRENGTH        456221 non-null object\n",
      "DOSE_VAL_RX          456221 non-null object\n",
      "DOSE_UNIT_RX         456221 non-null object\n",
      "FORM_VAL_DISP        456221 non-null object\n",
      "FORM_UNIT_DISP       456213 non-null object\n",
      "ROUTE                456233 non-null object\n",
      "dtypes: datetime64[ns](2), float64(2), int64(2), object(12)\n",
      "memory usage: 66.2+ MB\n"
     ]
    }
   ],
   "source": [
    "rx_5k=rx[rx['SUBJECT_ID'].isin(id_list)]\n",
    "rx_5k.info()"
   ]
  },
  {
   "cell_type": "code",
   "execution_count": 192,
   "metadata": {},
   "outputs": [],
   "source": [
    "rx_5k.to_csv('rx_5k.csv')"
   ]
  },
  {
   "cell_type": "markdown",
   "metadata": {},
   "source": [
    "### Working Dataset 5:PRESCRIPTIONS\n",
    "\n",
    "rx_5k dataframe or rx_5K.csv subsets the 5000 randomly selected patients and their medication related order enteries. \n",
    "5000 patients covers 456,351 prescription entries out of the total of 4.1million entries. \n",
    "\n",
    "+ PRESCRIPTIONS.csv"
   ]
  },
  {
   "cell_type": "code",
   "execution_count": null,
   "metadata": {},
   "outputs": [],
   "source": []
  }
 ],
 "metadata": {
  "celltoolbar": "Raw Cell Format",
  "kernelspec": {
   "display_name": "Python 3",
   "language": "python",
   "name": "python3"
  },
  "language_info": {
   "codemirror_mode": {
    "name": "ipython",
    "version": 3
   },
   "file_extension": ".py",
   "mimetype": "text/x-python",
   "name": "python",
   "nbconvert_exporter": "python",
   "pygments_lexer": "ipython3",
   "version": "3.7.4"
  }
 },
 "nbformat": 4,
 "nbformat_minor": 4
}
